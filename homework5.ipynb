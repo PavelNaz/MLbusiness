{
 "cells": [
  {
   "cell_type": "code",
   "execution_count": 1,
   "metadata": {},
   "outputs": [],
   "source": [
    "import pandas as pd\n",
    "import numpy as np\n",
    "from sklearn.pipeline import Pipeline, make_pipeline\n",
    "from sklearn.base import BaseEstimator, TransformerMixin\n",
    "from sklearn.linear_model import LogisticRegression\n",
    "from sklearn.model_selection import train_test_split\n",
    "#from sklearn.feature_extraction.text import TfidfVectorizer\n",
    "import itertools\n",
    "\n",
    "import matplotlib.pyplot as plt\n",
    "\n",
    "%matplotlib inline"
   ]
  },
  {
   "cell_type": "code",
   "execution_count": 2,
   "metadata": {},
   "outputs": [
    {
     "data": {
      "text/html": [
       "<div>\n",
       "<style scoped>\n",
       "    .dataframe tbody tr th:only-of-type {\n",
       "        vertical-align: middle;\n",
       "    }\n",
       "\n",
       "    .dataframe tbody tr th {\n",
       "        vertical-align: top;\n",
       "    }\n",
       "\n",
       "    .dataframe thead th {\n",
       "        text-align: right;\n",
       "    }\n",
       "</style>\n",
       "<table border=\"1\" class=\"dataframe\">\n",
       "  <thead>\n",
       "    <tr style=\"text-align: right;\">\n",
       "      <th></th>\n",
       "      <th>RowNumber</th>\n",
       "      <th>CustomerId</th>\n",
       "      <th>Surname</th>\n",
       "      <th>CreditScore</th>\n",
       "      <th>Geography</th>\n",
       "      <th>Gender</th>\n",
       "      <th>Age</th>\n",
       "      <th>Tenure</th>\n",
       "      <th>Balance</th>\n",
       "      <th>NumOfProducts</th>\n",
       "      <th>HasCrCard</th>\n",
       "      <th>IsActiveMember</th>\n",
       "      <th>EstimatedSalary</th>\n",
       "      <th>Exited</th>\n",
       "    </tr>\n",
       "  </thead>\n",
       "  <tbody>\n",
       "    <tr>\n",
       "      <th>0</th>\n",
       "      <td>1</td>\n",
       "      <td>15634602</td>\n",
       "      <td>Hargrave</td>\n",
       "      <td>619</td>\n",
       "      <td>France</td>\n",
       "      <td>Female</td>\n",
       "      <td>42</td>\n",
       "      <td>2</td>\n",
       "      <td>0.00</td>\n",
       "      <td>1</td>\n",
       "      <td>1</td>\n",
       "      <td>1</td>\n",
       "      <td>101348.88</td>\n",
       "      <td>1</td>\n",
       "    </tr>\n",
       "    <tr>\n",
       "      <th>1</th>\n",
       "      <td>2</td>\n",
       "      <td>15647311</td>\n",
       "      <td>Hill</td>\n",
       "      <td>608</td>\n",
       "      <td>Spain</td>\n",
       "      <td>Female</td>\n",
       "      <td>41</td>\n",
       "      <td>1</td>\n",
       "      <td>83807.86</td>\n",
       "      <td>1</td>\n",
       "      <td>0</td>\n",
       "      <td>1</td>\n",
       "      <td>112542.58</td>\n",
       "      <td>0</td>\n",
       "    </tr>\n",
       "    <tr>\n",
       "      <th>2</th>\n",
       "      <td>3</td>\n",
       "      <td>15619304</td>\n",
       "      <td>Onio</td>\n",
       "      <td>502</td>\n",
       "      <td>France</td>\n",
       "      <td>Female</td>\n",
       "      <td>42</td>\n",
       "      <td>8</td>\n",
       "      <td>159660.80</td>\n",
       "      <td>3</td>\n",
       "      <td>1</td>\n",
       "      <td>0</td>\n",
       "      <td>113931.57</td>\n",
       "      <td>1</td>\n",
       "    </tr>\n",
       "  </tbody>\n",
       "</table>\n",
       "</div>"
      ],
      "text/plain": [
       "   RowNumber  CustomerId   Surname  CreditScore Geography  Gender  Age  \\\n",
       "0          1    15634602  Hargrave          619    France  Female   42   \n",
       "1          2    15647311      Hill          608     Spain  Female   41   \n",
       "2          3    15619304      Onio          502    France  Female   42   \n",
       "\n",
       "   Tenure    Balance  NumOfProducts  HasCrCard  IsActiveMember  \\\n",
       "0       2       0.00              1          1               1   \n",
       "1       1   83807.86              1          0               1   \n",
       "2       8  159660.80              3          1               0   \n",
       "\n",
       "   EstimatedSalary  Exited  \n",
       "0        101348.88       1  \n",
       "1        112542.58       0  \n",
       "2        113931.57       1  "
      ]
     },
     "execution_count": 2,
     "metadata": {},
     "output_type": "execute_result"
    }
   ],
   "source": [
    "df = pd.read_csv(\"churn_data.csv\")\n",
    "df.head(3)"
   ]
  },
  {
   "cell_type": "code",
   "execution_count": 3,
   "metadata": {},
   "outputs": [
    {
     "name": "stdout",
     "output_type": "stream",
     "text": [
      "<class 'pandas.core.frame.DataFrame'>\n",
      "RangeIndex: 10000 entries, 0 to 9999\n",
      "Data columns (total 14 columns):\n",
      " #   Column           Non-Null Count  Dtype  \n",
      "---  ------           --------------  -----  \n",
      " 0   RowNumber        10000 non-null  int64  \n",
      " 1   CustomerId       10000 non-null  int64  \n",
      " 2   Surname          10000 non-null  object \n",
      " 3   CreditScore      10000 non-null  int64  \n",
      " 4   Geography        10000 non-null  object \n",
      " 5   Gender           10000 non-null  object \n",
      " 6   Age              10000 non-null  int64  \n",
      " 7   Tenure           10000 non-null  int64  \n",
      " 8   Balance          10000 non-null  float64\n",
      " 9   NumOfProducts    10000 non-null  int64  \n",
      " 10  HasCrCard        10000 non-null  int64  \n",
      " 11  IsActiveMember   10000 non-null  int64  \n",
      " 12  EstimatedSalary  10000 non-null  float64\n",
      " 13  Exited           10000 non-null  int64  \n",
      "dtypes: float64(2), int64(9), object(3)\n",
      "memory usage: 1.1+ MB\n"
     ]
    }
   ],
   "source": [
    "df.info()"
   ]
  },
  {
   "cell_type": "code",
   "execution_count": 4,
   "metadata": {},
   "outputs": [
    {
     "data": {
      "text/plain": [
       "0    7963\n",
       "1    2037\n",
       "Name: Exited, dtype: int64"
      ]
     },
     "execution_count": 4,
     "metadata": {},
     "output_type": "execute_result"
    }
   ],
   "source": [
    "df['Exited'].value_counts()"
   ]
  },
  {
   "cell_type": "code",
   "execution_count": 5,
   "metadata": {},
   "outputs": [],
   "source": [
    "X_train, X_test, y_train, y_test = train_test_split(df, df['Exited'], random_state=0)"
   ]
  },
  {
   "cell_type": "code",
   "execution_count": 6,
   "metadata": {},
   "outputs": [],
   "source": [
    "class FeatureSelector(BaseEstimator, TransformerMixin):\n",
    "    def __init__(self, column):\n",
    "        self.column = column\n",
    "\n",
    "    def fit(self, X, y=None):\n",
    "        return self\n",
    "\n",
    "    def transform(self, X, y=None):\n",
    "        return X[self.column]\n",
    "\n",
    "\n",
    "class NumberSelector(BaseEstimator, TransformerMixin):\n",
    "    \"\"\"\n",
    "    Transformer to select a single column from the data frame to perform additional transformations on\n",
    "    Use on numeric columns in the data\n",
    "    \"\"\"\n",
    "\n",
    "    def __init__(self, key):\n",
    "        self.key = key\n",
    "\n",
    "    def fit(self, X, y=None):\n",
    "        return self\n",
    "\n",
    "    def transform(self, X):\n",
    "        return X[[self.key]]\n",
    "\n",
    "\n",
    "class OHEEncoder(BaseEstimator, TransformerMixin):\n",
    "    def __init__(self, key):\n",
    "        self.key = key\n",
    "        self.columns = []\n",
    "\n",
    "    def fit(self, X, y=None):\n",
    "        self.columns = [col for col in pd.get_dummies(X, prefix=self.key).columns]\n",
    "        return self\n",
    "\n",
    "    def transform(self, X):\n",
    "        X = pd.get_dummies(X, prefix=self.key)\n",
    "        test_columns = [col for col in X.columns]\n",
    "        for col_ in self.columns:\n",
    "            if col_ not in test_columns:\n",
    "                X[col_] = 0\n",
    "        return X[self.columns]"
   ]
  },
  {
   "cell_type": "code",
   "execution_count": 7,
   "metadata": {},
   "outputs": [],
   "source": [
    "categorical_columns = ['Geography', 'Gender', 'Tenure', 'HasCrCard', 'IsActiveMember']\n",
    "continuous_columns = ['CreditScore', 'Age', 'Balance', 'NumOfProducts', 'EstimatedSalary']"
   ]
  },
  {
   "cell_type": "code",
   "execution_count": 8,
   "metadata": {},
   "outputs": [
    {
     "data": {
      "text/html": [
       "<div>\n",
       "<style scoped>\n",
       "    .dataframe tbody tr th:only-of-type {\n",
       "        vertical-align: middle;\n",
       "    }\n",
       "\n",
       "    .dataframe tbody tr th {\n",
       "        vertical-align: top;\n",
       "    }\n",
       "\n",
       "    .dataframe thead th {\n",
       "        text-align: right;\n",
       "    }\n",
       "</style>\n",
       "<table border=\"1\" class=\"dataframe\">\n",
       "  <thead>\n",
       "    <tr style=\"text-align: right;\">\n",
       "      <th></th>\n",
       "      <th>Gender_Female</th>\n",
       "      <th>Gender_Male</th>\n",
       "    </tr>\n",
       "  </thead>\n",
       "  <tbody>\n",
       "    <tr>\n",
       "      <th>9394</th>\n",
       "      <td>1</td>\n",
       "      <td>0</td>\n",
       "    </tr>\n",
       "    <tr>\n",
       "      <th>898</th>\n",
       "      <td>1</td>\n",
       "      <td>0</td>\n",
       "    </tr>\n",
       "    <tr>\n",
       "      <th>2398</th>\n",
       "      <td>1</td>\n",
       "      <td>0</td>\n",
       "    </tr>\n",
       "  </tbody>\n",
       "</table>\n",
       "</div>"
      ],
      "text/plain": [
       "      Gender_Female  Gender_Male\n",
       "9394              1            0\n",
       "898               1            0\n",
       "2398              1            0"
      ]
     },
     "execution_count": 8,
     "metadata": {},
     "output_type": "execute_result"
    }
   ],
   "source": [
    "from sklearn.pipeline import Pipeline\n",
    "from sklearn.pipeline import FeatureUnion\n",
    "\n",
    "gender = Pipeline([\n",
    "    ('selector', FeatureSelector(column='Gender')),\n",
    "    ('ohe', OHEEncoder(key='Gender'))\n",
    "])\n",
    "gender.fit(X_train)\n",
    "gender.transform(X_test).head(3)"
   ]
  },
  {
   "cell_type": "code",
   "execution_count": 9,
   "metadata": {},
   "outputs": [
    {
     "data": {
      "text/html": [
       "<style>div.sk-top-container {color: black;background-color: white;}div.sk-toggleable {background-color: white;}label.sk-toggleable__label {cursor: pointer;display: block;width: 100%;margin-bottom: 0;padding: 0.2em 0.3em;box-sizing: border-box;text-align: center;}div.sk-toggleable__content {max-height: 0;max-width: 0;overflow: hidden;text-align: left;background-color: #f0f8ff;}div.sk-toggleable__content pre {margin: 0.2em;color: black;border-radius: 0.25em;background-color: #f0f8ff;}input.sk-toggleable__control:checked~div.sk-toggleable__content {max-height: 200px;max-width: 100%;overflow: auto;}div.sk-estimator input.sk-toggleable__control:checked~label.sk-toggleable__label {background-color: #d4ebff;}div.sk-label input.sk-toggleable__control:checked~label.sk-toggleable__label {background-color: #d4ebff;}input.sk-hidden--visually {border: 0;clip: rect(1px 1px 1px 1px);clip: rect(1px, 1px, 1px, 1px);height: 1px;margin: -1px;overflow: hidden;padding: 0;position: absolute;width: 1px;}div.sk-estimator {font-family: monospace;background-color: #f0f8ff;margin: 0.25em 0.25em;border: 1px dotted black;border-radius: 0.25em;box-sizing: border-box;}div.sk-estimator:hover {background-color: #d4ebff;}div.sk-parallel-item::after {content: \"\";width: 100%;border-bottom: 1px solid gray;flex-grow: 1;}div.sk-label:hover label.sk-toggleable__label {background-color: #d4ebff;}div.sk-serial::before {content: \"\";position: absolute;border-left: 1px solid gray;box-sizing: border-box;top: 2em;bottom: 0;left: 50%;}div.sk-serial {display: flex;flex-direction: column;align-items: center;background-color: white;}div.sk-item {z-index: 1;}div.sk-parallel {display: flex;align-items: stretch;justify-content: center;background-color: white;}div.sk-parallel-item {display: flex;flex-direction: column;position: relative;background-color: white;}div.sk-parallel-item:first-child::after {align-self: flex-end;width: 50%;}div.sk-parallel-item:last-child::after {align-self: flex-start;width: 50%;}div.sk-parallel-item:only-child::after {width: 0;}div.sk-dashed-wrapped {border: 1px dashed gray;margin: 0.2em;box-sizing: border-box;padding-bottom: 0.1em;background-color: white;position: relative;}div.sk-label label {font-family: monospace;font-weight: bold;background-color: white;display: inline-block;line-height: 1.2em;}div.sk-label-container {position: relative;z-index: 2;text-align: center;}div.sk-container {display: inline-block;position: relative;}</style><div class=\"sk-top-container\"><div class=\"sk-container\"><div class=\"sk-item sk-dashed-wrapped\"><div class=\"sk-label-container\"><div class=\"sk-label sk-toggleable\"><input class=\"sk-toggleable__control sk-hidden--visually\" id=\"2a4cb09c-c7af-4800-8040-8da00ce089c9\" type=\"checkbox\" ><label class=\"sk-toggleable__label\" for=\"2a4cb09c-c7af-4800-8040-8da00ce089c9\">Pipeline</label><div class=\"sk-toggleable__content\"><pre>Pipeline(steps=[('feats',\n",
       "                 FeatureUnion(transformer_list=[('Geography',\n",
       "                                                 Pipeline(steps=[('selector',\n",
       "                                                                  FeatureSelector(column='Geography')),\n",
       "                                                                 ('ohe',\n",
       "                                                                  OHEEncoder(key='Geography'))])),\n",
       "                                                ('Gender',\n",
       "                                                 Pipeline(steps=[('selector',\n",
       "                                                                  FeatureSelector(column='Gender')),\n",
       "                                                                 ('ohe',\n",
       "                                                                  OHEEncoder(key='Gender'))])),\n",
       "                                                ('Tenure',\n",
       "                                                 Pipeline(steps=[('selector',\n",
       "                                                                  FeatureSelector(column='Tenure'...\n",
       "                                                                  StandardScaler())])),\n",
       "                                                ('Balance',\n",
       "                                                 Pipeline(steps=[('selector',\n",
       "                                                                  NumberSelector(key='Balance')),\n",
       "                                                                 ('standard',\n",
       "                                                                  StandardScaler())])),\n",
       "                                                ('NumOfProducts',\n",
       "                                                 Pipeline(steps=[('selector',\n",
       "                                                                  NumberSelector(key='NumOfProducts')),\n",
       "                                                                 ('standard',\n",
       "                                                                  StandardScaler())])),\n",
       "                                                ('EstimatedSalary',\n",
       "                                                 Pipeline(steps=[('selector',\n",
       "                                                                  NumberSelector(key='EstimatedSalary')),\n",
       "                                                                 ('standard',\n",
       "                                                                  StandardScaler())]))]))])</pre></div></div></div><div class=\"sk-serial\"><div class=\"sk-item sk-dashed-wrapped\"><div class=\"sk-label-container\"><div class=\"sk-label sk-toggleable\"><input class=\"sk-toggleable__control sk-hidden--visually\" id=\"8598ccef-3173-432e-a6d9-b33c23721381\" type=\"checkbox\" ><label class=\"sk-toggleable__label\" for=\"8598ccef-3173-432e-a6d9-b33c23721381\">feats: FeatureUnion</label><div class=\"sk-toggleable__content\"><pre>FeatureUnion(transformer_list=[('Geography',\n",
       "                                Pipeline(steps=[('selector',\n",
       "                                                 FeatureSelector(column='Geography')),\n",
       "                                                ('ohe',\n",
       "                                                 OHEEncoder(key='Geography'))])),\n",
       "                               ('Gender',\n",
       "                                Pipeline(steps=[('selector',\n",
       "                                                 FeatureSelector(column='Gender')),\n",
       "                                                ('ohe',\n",
       "                                                 OHEEncoder(key='Gender'))])),\n",
       "                               ('Tenure',\n",
       "                                Pipeline(steps=[('selector',\n",
       "                                                 FeatureSelector(column='Tenure')),\n",
       "                                                ('ohe',\n",
       "                                                 OHEEncoder(key=...\n",
       "                                                 StandardScaler())])),\n",
       "                               ('Balance',\n",
       "                                Pipeline(steps=[('selector',\n",
       "                                                 NumberSelector(key='Balance')),\n",
       "                                                ('standard',\n",
       "                                                 StandardScaler())])),\n",
       "                               ('NumOfProducts',\n",
       "                                Pipeline(steps=[('selector',\n",
       "                                                 NumberSelector(key='NumOfProducts')),\n",
       "                                                ('standard',\n",
       "                                                 StandardScaler())])),\n",
       "                               ('EstimatedSalary',\n",
       "                                Pipeline(steps=[('selector',\n",
       "                                                 NumberSelector(key='EstimatedSalary')),\n",
       "                                                ('standard',\n",
       "                                                 StandardScaler())]))])</pre></div></div></div><div class=\"sk-parallel\"><div class=\"sk-parallel-item\"><div class=\"sk-item\"><div class=\"sk-label-container\"><div class=\"sk-label sk-toggleable\"><label>Geography</label></div></div><div class=\"sk-serial\"><div class=\"sk-item\"><div class=\"sk-serial\"><div class=\"sk-item\"><div class=\"sk-estimator sk-toggleable\"><input class=\"sk-toggleable__control sk-hidden--visually\" id=\"146cbf28-f7fe-468f-af89-0796afe411df\" type=\"checkbox\" ><label class=\"sk-toggleable__label\" for=\"146cbf28-f7fe-468f-af89-0796afe411df\">FeatureSelector</label><div class=\"sk-toggleable__content\"><pre>FeatureSelector(column='Geography')</pre></div></div></div><div class=\"sk-item\"><div class=\"sk-estimator sk-toggleable\"><input class=\"sk-toggleable__control sk-hidden--visually\" id=\"9cc7cb6c-ec5d-4ae8-9804-c671ae019d56\" type=\"checkbox\" ><label class=\"sk-toggleable__label\" for=\"9cc7cb6c-ec5d-4ae8-9804-c671ae019d56\">OHEEncoder</label><div class=\"sk-toggleable__content\"><pre>OHEEncoder(key='Geography')</pre></div></div></div></div></div></div></div></div><div class=\"sk-parallel-item\"><div class=\"sk-item\"><div class=\"sk-label-container\"><div class=\"sk-label sk-toggleable\"><label>Gender</label></div></div><div class=\"sk-serial\"><div class=\"sk-item\"><div class=\"sk-serial\"><div class=\"sk-item\"><div class=\"sk-estimator sk-toggleable\"><input class=\"sk-toggleable__control sk-hidden--visually\" id=\"b42b2f28-f4a0-4450-9e7b-0d40c47b0eac\" type=\"checkbox\" ><label class=\"sk-toggleable__label\" for=\"b42b2f28-f4a0-4450-9e7b-0d40c47b0eac\">FeatureSelector</label><div class=\"sk-toggleable__content\"><pre>FeatureSelector(column='Gender')</pre></div></div></div><div class=\"sk-item\"><div class=\"sk-estimator sk-toggleable\"><input class=\"sk-toggleable__control sk-hidden--visually\" id=\"4d40ee84-16bd-4f87-a602-2fe6d37f5015\" type=\"checkbox\" ><label class=\"sk-toggleable__label\" for=\"4d40ee84-16bd-4f87-a602-2fe6d37f5015\">OHEEncoder</label><div class=\"sk-toggleable__content\"><pre>OHEEncoder(key='Gender')</pre></div></div></div></div></div></div></div></div><div class=\"sk-parallel-item\"><div class=\"sk-item\"><div class=\"sk-label-container\"><div class=\"sk-label sk-toggleable\"><label>Tenure</label></div></div><div class=\"sk-serial\"><div class=\"sk-item\"><div class=\"sk-serial\"><div class=\"sk-item\"><div class=\"sk-estimator sk-toggleable\"><input class=\"sk-toggleable__control sk-hidden--visually\" id=\"67489651-0028-43d8-9ee7-fe64d28a7f01\" type=\"checkbox\" ><label class=\"sk-toggleable__label\" for=\"67489651-0028-43d8-9ee7-fe64d28a7f01\">FeatureSelector</label><div class=\"sk-toggleable__content\"><pre>FeatureSelector(column='Tenure')</pre></div></div></div><div class=\"sk-item\"><div class=\"sk-estimator sk-toggleable\"><input class=\"sk-toggleable__control sk-hidden--visually\" id=\"216fdcf4-805f-4f68-b5f2-514c046005d0\" type=\"checkbox\" ><label class=\"sk-toggleable__label\" for=\"216fdcf4-805f-4f68-b5f2-514c046005d0\">OHEEncoder</label><div class=\"sk-toggleable__content\"><pre>OHEEncoder(key='Tenure')</pre></div></div></div></div></div></div></div></div><div class=\"sk-parallel-item\"><div class=\"sk-item\"><div class=\"sk-label-container\"><div class=\"sk-label sk-toggleable\"><label>HasCrCard</label></div></div><div class=\"sk-serial\"><div class=\"sk-item\"><div class=\"sk-serial\"><div class=\"sk-item\"><div class=\"sk-estimator sk-toggleable\"><input class=\"sk-toggleable__control sk-hidden--visually\" id=\"b93b983d-3144-46cc-9215-dd0e4115c287\" type=\"checkbox\" ><label class=\"sk-toggleable__label\" for=\"b93b983d-3144-46cc-9215-dd0e4115c287\">FeatureSelector</label><div class=\"sk-toggleable__content\"><pre>FeatureSelector(column='HasCrCard')</pre></div></div></div><div class=\"sk-item\"><div class=\"sk-estimator sk-toggleable\"><input class=\"sk-toggleable__control sk-hidden--visually\" id=\"d5b1c7c2-44f2-4ea4-907e-0aabf88b625e\" type=\"checkbox\" ><label class=\"sk-toggleable__label\" for=\"d5b1c7c2-44f2-4ea4-907e-0aabf88b625e\">OHEEncoder</label><div class=\"sk-toggleable__content\"><pre>OHEEncoder(key='HasCrCard')</pre></div></div></div></div></div></div></div></div><div class=\"sk-parallel-item\"><div class=\"sk-item\"><div class=\"sk-label-container\"><div class=\"sk-label sk-toggleable\"><label>IsActiveMember</label></div></div><div class=\"sk-serial\"><div class=\"sk-item\"><div class=\"sk-serial\"><div class=\"sk-item\"><div class=\"sk-estimator sk-toggleable\"><input class=\"sk-toggleable__control sk-hidden--visually\" id=\"cf54dc7d-548c-4d3d-b517-5419f0876f1a\" type=\"checkbox\" ><label class=\"sk-toggleable__label\" for=\"cf54dc7d-548c-4d3d-b517-5419f0876f1a\">FeatureSelector</label><div class=\"sk-toggleable__content\"><pre>FeatureSelector(column='IsActiveMember')</pre></div></div></div><div class=\"sk-item\"><div class=\"sk-estimator sk-toggleable\"><input class=\"sk-toggleable__control sk-hidden--visually\" id=\"c0d6f7a1-ded3-4cde-bdd2-8a5425bd16a3\" type=\"checkbox\" ><label class=\"sk-toggleable__label\" for=\"c0d6f7a1-ded3-4cde-bdd2-8a5425bd16a3\">OHEEncoder</label><div class=\"sk-toggleable__content\"><pre>OHEEncoder(key='IsActiveMember')</pre></div></div></div></div></div></div></div></div><div class=\"sk-parallel-item\"><div class=\"sk-item\"><div class=\"sk-label-container\"><div class=\"sk-label sk-toggleable\"><label>CreditScore</label></div></div><div class=\"sk-serial\"><div class=\"sk-item\"><div class=\"sk-serial\"><div class=\"sk-item\"><div class=\"sk-estimator sk-toggleable\"><input class=\"sk-toggleable__control sk-hidden--visually\" id=\"f75e3031-6a87-4773-87b2-747e38e5b9a5\" type=\"checkbox\" ><label class=\"sk-toggleable__label\" for=\"f75e3031-6a87-4773-87b2-747e38e5b9a5\">NumberSelector</label><div class=\"sk-toggleable__content\"><pre>NumberSelector(key='CreditScore')</pre></div></div></div><div class=\"sk-item\"><div class=\"sk-estimator sk-toggleable\"><input class=\"sk-toggleable__control sk-hidden--visually\" id=\"53278a1a-46ab-4532-bdf9-947090a458ce\" type=\"checkbox\" ><label class=\"sk-toggleable__label\" for=\"53278a1a-46ab-4532-bdf9-947090a458ce\">StandardScaler</label><div class=\"sk-toggleable__content\"><pre>StandardScaler()</pre></div></div></div></div></div></div></div></div><div class=\"sk-parallel-item\"><div class=\"sk-item\"><div class=\"sk-label-container\"><div class=\"sk-label sk-toggleable\"><label>Age</label></div></div><div class=\"sk-serial\"><div class=\"sk-item\"><div class=\"sk-serial\"><div class=\"sk-item\"><div class=\"sk-estimator sk-toggleable\"><input class=\"sk-toggleable__control sk-hidden--visually\" id=\"c641c1f5-9da6-4827-88be-de3c1cb0cca9\" type=\"checkbox\" ><label class=\"sk-toggleable__label\" for=\"c641c1f5-9da6-4827-88be-de3c1cb0cca9\">NumberSelector</label><div class=\"sk-toggleable__content\"><pre>NumberSelector(key='Age')</pre></div></div></div><div class=\"sk-item\"><div class=\"sk-estimator sk-toggleable\"><input class=\"sk-toggleable__control sk-hidden--visually\" id=\"8d57e9f9-d82d-4a09-bbd9-f166e2450342\" type=\"checkbox\" ><label class=\"sk-toggleable__label\" for=\"8d57e9f9-d82d-4a09-bbd9-f166e2450342\">StandardScaler</label><div class=\"sk-toggleable__content\"><pre>StandardScaler()</pre></div></div></div></div></div></div></div></div><div class=\"sk-parallel-item\"><div class=\"sk-item\"><div class=\"sk-label-container\"><div class=\"sk-label sk-toggleable\"><label>Balance</label></div></div><div class=\"sk-serial\"><div class=\"sk-item\"><div class=\"sk-serial\"><div class=\"sk-item\"><div class=\"sk-estimator sk-toggleable\"><input class=\"sk-toggleable__control sk-hidden--visually\" id=\"81ed7f4a-60a5-4aa7-8e60-cdafecdf32fa\" type=\"checkbox\" ><label class=\"sk-toggleable__label\" for=\"81ed7f4a-60a5-4aa7-8e60-cdafecdf32fa\">NumberSelector</label><div class=\"sk-toggleable__content\"><pre>NumberSelector(key='Balance')</pre></div></div></div><div class=\"sk-item\"><div class=\"sk-estimator sk-toggleable\"><input class=\"sk-toggleable__control sk-hidden--visually\" id=\"4f0061b2-3945-4a27-9831-eb0c1b59c651\" type=\"checkbox\" ><label class=\"sk-toggleable__label\" for=\"4f0061b2-3945-4a27-9831-eb0c1b59c651\">StandardScaler</label><div class=\"sk-toggleable__content\"><pre>StandardScaler()</pre></div></div></div></div></div></div></div></div><div class=\"sk-parallel-item\"><div class=\"sk-item\"><div class=\"sk-label-container\"><div class=\"sk-label sk-toggleable\"><label>NumOfProducts</label></div></div><div class=\"sk-serial\"><div class=\"sk-item\"><div class=\"sk-serial\"><div class=\"sk-item\"><div class=\"sk-estimator sk-toggleable\"><input class=\"sk-toggleable__control sk-hidden--visually\" id=\"e389d8d7-f62b-4ef0-a154-6236238f520d\" type=\"checkbox\" ><label class=\"sk-toggleable__label\" for=\"e389d8d7-f62b-4ef0-a154-6236238f520d\">NumberSelector</label><div class=\"sk-toggleable__content\"><pre>NumberSelector(key='NumOfProducts')</pre></div></div></div><div class=\"sk-item\"><div class=\"sk-estimator sk-toggleable\"><input class=\"sk-toggleable__control sk-hidden--visually\" id=\"b2393dfb-7390-448f-add5-b86ff06de8ba\" type=\"checkbox\" ><label class=\"sk-toggleable__label\" for=\"b2393dfb-7390-448f-add5-b86ff06de8ba\">StandardScaler</label><div class=\"sk-toggleable__content\"><pre>StandardScaler()</pre></div></div></div></div></div></div></div></div><div class=\"sk-parallel-item\"><div class=\"sk-item\"><div class=\"sk-label-container\"><div class=\"sk-label sk-toggleable\"><label>EstimatedSalary</label></div></div><div class=\"sk-serial\"><div class=\"sk-item\"><div class=\"sk-serial\"><div class=\"sk-item\"><div class=\"sk-estimator sk-toggleable\"><input class=\"sk-toggleable__control sk-hidden--visually\" id=\"eeae0261-f093-4583-9e81-05ff92e551e0\" type=\"checkbox\" ><label class=\"sk-toggleable__label\" for=\"eeae0261-f093-4583-9e81-05ff92e551e0\">NumberSelector</label><div class=\"sk-toggleable__content\"><pre>NumberSelector(key='EstimatedSalary')</pre></div></div></div><div class=\"sk-item\"><div class=\"sk-estimator sk-toggleable\"><input class=\"sk-toggleable__control sk-hidden--visually\" id=\"068a2606-1c23-4d03-ab92-b291634955cd\" type=\"checkbox\" ><label class=\"sk-toggleable__label\" for=\"068a2606-1c23-4d03-ab92-b291634955cd\">StandardScaler</label><div class=\"sk-toggleable__content\"><pre>StandardScaler()</pre></div></div></div></div></div></div></div></div></div></div></div></div></div></div>"
      ],
      "text/plain": [
       "Pipeline(steps=[('feats',\n",
       "                 FeatureUnion(transformer_list=[('Geography',\n",
       "                                                 Pipeline(steps=[('selector',\n",
       "                                                                  FeatureSelector(column='Geography')),\n",
       "                                                                 ('ohe',\n",
       "                                                                  OHEEncoder(key='Geography'))])),\n",
       "                                                ('Gender',\n",
       "                                                 Pipeline(steps=[('selector',\n",
       "                                                                  FeatureSelector(column='Gender')),\n",
       "                                                                 ('ohe',\n",
       "                                                                  OHEEncoder(key='Gender'))])),\n",
       "                                                ('Tenure',\n",
       "                                                 Pipeline(steps=[('selector',\n",
       "                                                                  FeatureSelector(column='Tenure'...\n",
       "                                                                  StandardScaler())])),\n",
       "                                                ('Balance',\n",
       "                                                 Pipeline(steps=[('selector',\n",
       "                                                                  NumberSelector(key='Balance')),\n",
       "                                                                 ('standard',\n",
       "                                                                  StandardScaler())])),\n",
       "                                                ('NumOfProducts',\n",
       "                                                 Pipeline(steps=[('selector',\n",
       "                                                                  NumberSelector(key='NumOfProducts')),\n",
       "                                                                 ('standard',\n",
       "                                                                  StandardScaler())])),\n",
       "                                                ('EstimatedSalary',\n",
       "                                                 Pipeline(steps=[('selector',\n",
       "                                                                  NumberSelector(key='EstimatedSalary')),\n",
       "                                                                 ('standard',\n",
       "                                                                  StandardScaler())]))]))])"
      ]
     },
     "execution_count": 9,
     "metadata": {},
     "output_type": "execute_result"
    }
   ],
   "source": [
    "from sklearn.preprocessing import StandardScaler\n",
    "from sklearn import set_config\n",
    "set_config(display='diagram')\n",
    "\n",
    "final_transformers = list()\n",
    "\n",
    "for cat_col in categorical_columns:\n",
    "    cat_transformer = Pipeline([\n",
    "        ('selector', FeatureSelector(column=cat_col)),\n",
    "        ('ohe', OHEEncoder(key=cat_col))\n",
    "    ])\n",
    "    final_transformers.append((cat_col, cat_transformer))\n",
    "\n",
    "for cont_col in continuous_columns:\n",
    "    cont_transformer = Pipeline([\n",
    "        ('selector', NumberSelector(key=cont_col)),\n",
    "        ('standard', StandardScaler())\n",
    "    ])\n",
    "    final_transformers.append((cont_col, cont_transformer))\n",
    "\n",
    "feature_processing = Pipeline([('feats', FeatureUnion(final_transformers))])\n",
    "feature_processing"
   ]
  },
  {
   "cell_type": "code",
   "execution_count": 10,
   "metadata": {},
   "outputs": [],
   "source": [
    "from sklearn.metrics import f1_score, roc_auc_score, precision_score, classification_report, precision_recall_curve,    confusion_matrix\n",
    "\n",
    "def print_sel_thresholds(y_test, preds):\n",
    "    precision, recall, thresholds = precision_recall_curve(y_test, preds)\n",
    "\n",
    "    fscore = (2 * precision * recall) / (precision + recall)\n",
    "    # locate the index of the largest f score\n",
    "    ix = np.argmax(fscore)\n",
    "    print('Best Threshold=%f, F-Score=%.3f, Precision=%.3f, Recall=%.3f' % (thresholds[ix],\n",
    "                                                                            fscore[ix],\n",
    "                                                                            precision[ix],\n",
    "                                                                            recall[ix]))\n",
    "    return thresholds[ix]"
   ]
  },
  {
   "cell_type": "code",
   "execution_count": 11,
   "metadata": {},
   "outputs": [],
   "source": [
    "def plot_confusion_matrix(cm, classes,\n",
    "                          normalize=False,\n",
    "                          title='Confusion matrix',\n",
    "                          cmap=plt.cm.Blues):\n",
    "    \"\"\"\n",
    "    This function prints and plots the confusion matrix.\n",
    "    Normalization can be applied by setting `normalize=True`.\n",
    "    \"\"\"\n",
    "    plt.imshow(cm, interpolation='nearest', cmap=cmap)\n",
    "    plt.title(title)\n",
    "    plt.colorbar()\n",
    "    tick_marks = np.arange(len(classes))\n",
    "    plt.xticks(tick_marks, classes, rotation=45)\n",
    "    plt.yticks(tick_marks, classes)\n",
    "\n",
    "    if normalize:\n",
    "        cm = cm.astype('float') / cm.sum(axis=1)[:, np.newaxis]\n",
    "        print(\"Normalized confusion matrix\")\n",
    "    else:\n",
    "        print('Confusion matrix, without normalization')\n",
    "\n",
    "    print(cm)\n",
    "\n",
    "    thresh = cm.max() / 2.\n",
    "    for i, j in itertools.product(range(cm.shape[0]), range(cm.shape[1])):\n",
    "        plt.text(j, i, cm[i, j],\n",
    "                 horizontalalignment=\"center\",\n",
    "                 color=\"white\" if cm[i, j] > thresh else \"black\")\n",
    "\n",
    "    plt.tight_layout()\n",
    "    plt.ylabel('True label')\n",
    "    plt.xlabel('Predicted label')"
   ]
  },
  {
   "cell_type": "code",
   "execution_count": 12,
   "metadata": {},
   "outputs": [],
   "source": [
    "def confusion_matrix_create(y_test, preds, thresholds):\n",
    "    font = {'size': 15}\n",
    "\n",
    "    plt.rc('font', **font)\n",
    "\n",
    "    cnf_matrix = confusion_matrix(y_test, preds > thresholds)\n",
    "    plt.figure(figsize=(10, 8))\n",
    "    plot_confusion_matrix(cnf_matrix, classes=['NonChurn', 'Churn'],\n",
    "                          title='Confusion matrix')\n",
    "    plt.savefig(\"conf_matrix.png\")\n",
    "    plt.show()"
   ]
  },
  {
   "cell_type": "code",
   "execution_count": 13,
   "metadata": {},
   "outputs": [],
   "source": [
    "models_results = {\n",
    "    'approach': [],\n",
    "    'F-Score': [],\n",
    "    'Precision': [],\n",
    "    'Recall': [],\n",
    "}"
   ]
  },
  {
   "cell_type": "code",
   "execution_count": 14,
   "metadata": {},
   "outputs": [],
   "source": [
    "from sklearn.ensemble import RandomForestClassifier\n",
    "\n",
    "model = RandomForestClassifier(random_state=13)"
   ]
  },
  {
   "cell_type": "code",
   "execution_count": 15,
   "metadata": {},
   "outputs": [],
   "source": [
    "pipeline = Pipeline([\n",
    "    ('features', feature_processing),\n",
    "    ('classifier', model),\n",
    "])"
   ]
  },
  {
   "cell_type": "code",
   "execution_count": 16,
   "metadata": {},
   "outputs": [
    {
     "data": {
      "text/html": [
       "<style>div.sk-top-container {color: black;background-color: white;}div.sk-toggleable {background-color: white;}label.sk-toggleable__label {cursor: pointer;display: block;width: 100%;margin-bottom: 0;padding: 0.2em 0.3em;box-sizing: border-box;text-align: center;}div.sk-toggleable__content {max-height: 0;max-width: 0;overflow: hidden;text-align: left;background-color: #f0f8ff;}div.sk-toggleable__content pre {margin: 0.2em;color: black;border-radius: 0.25em;background-color: #f0f8ff;}input.sk-toggleable__control:checked~div.sk-toggleable__content {max-height: 200px;max-width: 100%;overflow: auto;}div.sk-estimator input.sk-toggleable__control:checked~label.sk-toggleable__label {background-color: #d4ebff;}div.sk-label input.sk-toggleable__control:checked~label.sk-toggleable__label {background-color: #d4ebff;}input.sk-hidden--visually {border: 0;clip: rect(1px 1px 1px 1px);clip: rect(1px, 1px, 1px, 1px);height: 1px;margin: -1px;overflow: hidden;padding: 0;position: absolute;width: 1px;}div.sk-estimator {font-family: monospace;background-color: #f0f8ff;margin: 0.25em 0.25em;border: 1px dotted black;border-radius: 0.25em;box-sizing: border-box;}div.sk-estimator:hover {background-color: #d4ebff;}div.sk-parallel-item::after {content: \"\";width: 100%;border-bottom: 1px solid gray;flex-grow: 1;}div.sk-label:hover label.sk-toggleable__label {background-color: #d4ebff;}div.sk-serial::before {content: \"\";position: absolute;border-left: 1px solid gray;box-sizing: border-box;top: 2em;bottom: 0;left: 50%;}div.sk-serial {display: flex;flex-direction: column;align-items: center;background-color: white;}div.sk-item {z-index: 1;}div.sk-parallel {display: flex;align-items: stretch;justify-content: center;background-color: white;}div.sk-parallel-item {display: flex;flex-direction: column;position: relative;background-color: white;}div.sk-parallel-item:first-child::after {align-self: flex-end;width: 50%;}div.sk-parallel-item:last-child::after {align-self: flex-start;width: 50%;}div.sk-parallel-item:only-child::after {width: 0;}div.sk-dashed-wrapped {border: 1px dashed gray;margin: 0.2em;box-sizing: border-box;padding-bottom: 0.1em;background-color: white;position: relative;}div.sk-label label {font-family: monospace;font-weight: bold;background-color: white;display: inline-block;line-height: 1.2em;}div.sk-label-container {position: relative;z-index: 2;text-align: center;}div.sk-container {display: inline-block;position: relative;}</style><div class=\"sk-top-container\"><div class=\"sk-container\"><div class=\"sk-item sk-dashed-wrapped\"><div class=\"sk-label-container\"><div class=\"sk-label sk-toggleable\"><input class=\"sk-toggleable__control sk-hidden--visually\" id=\"ed88972a-fe1a-4bdc-8191-512f68f6b295\" type=\"checkbox\" ><label class=\"sk-toggleable__label\" for=\"ed88972a-fe1a-4bdc-8191-512f68f6b295\">Pipeline</label><div class=\"sk-toggleable__content\"><pre>Pipeline(steps=[('features',\n",
       "                 Pipeline(steps=[('feats',\n",
       "                                  FeatureUnion(transformer_list=[('Geography',\n",
       "                                                                  Pipeline(steps=[('selector',\n",
       "                                                                                   FeatureSelector(column='Geography')),\n",
       "                                                                                  ('ohe',\n",
       "                                                                                   OHEEncoder(key='Geography'))])),\n",
       "                                                                 ('Gender',\n",
       "                                                                  Pipeline(steps=[('selector',\n",
       "                                                                                   FeatureSelector(column='Gender')),\n",
       "                                                                                  ('ohe',\n",
       "                                                                                   OHEEncoder(key='Gender'))])),\n",
       "                                                                 ('Tenure',\n",
       "                                                                  Pipeline(steps=[('selector',\n",
       "                                                                                   Fea...\n",
       "                                                                                   NumberSelector(key='Balance')),\n",
       "                                                                                  ('standard',\n",
       "                                                                                   StandardScaler())])),\n",
       "                                                                 ('NumOfProducts',\n",
       "                                                                  Pipeline(steps=[('selector',\n",
       "                                                                                   NumberSelector(key='NumOfProducts')),\n",
       "                                                                                  ('standard',\n",
       "                                                                                   StandardScaler())])),\n",
       "                                                                 ('EstimatedSalary',\n",
       "                                                                  Pipeline(steps=[('selector',\n",
       "                                                                                   NumberSelector(key='EstimatedSalary')),\n",
       "                                                                                  ('standard',\n",
       "                                                                                   StandardScaler())]))]))])),\n",
       "                ('classifier', RandomForestClassifier(random_state=13))])</pre></div></div></div><div class=\"sk-serial\"><div class=\"sk-item\"><div class=\"sk-label-container\"><div class=\"sk-label sk-toggleable\"><input class=\"sk-toggleable__control sk-hidden--visually\" id=\"18dc82cf-3ee1-4690-ac66-204b54ffde80\" type=\"checkbox\" ><label class=\"sk-toggleable__label\" for=\"18dc82cf-3ee1-4690-ac66-204b54ffde80\">features: Pipeline</label><div class=\"sk-toggleable__content\"><pre>Pipeline(steps=[('feats',\n",
       "                 FeatureUnion(transformer_list=[('Geography',\n",
       "                                                 Pipeline(steps=[('selector',\n",
       "                                                                  FeatureSelector(column='Geography')),\n",
       "                                                                 ('ohe',\n",
       "                                                                  OHEEncoder(key='Geography'))])),\n",
       "                                                ('Gender',\n",
       "                                                 Pipeline(steps=[('selector',\n",
       "                                                                  FeatureSelector(column='Gender')),\n",
       "                                                                 ('ohe',\n",
       "                                                                  OHEEncoder(key='Gender'))])),\n",
       "                                                ('Tenure',\n",
       "                                                 Pipeline(steps=[('selector',\n",
       "                                                                  FeatureSelector(column='Tenure'...\n",
       "                                                                  StandardScaler())])),\n",
       "                                                ('Balance',\n",
       "                                                 Pipeline(steps=[('selector',\n",
       "                                                                  NumberSelector(key='Balance')),\n",
       "                                                                 ('standard',\n",
       "                                                                  StandardScaler())])),\n",
       "                                                ('NumOfProducts',\n",
       "                                                 Pipeline(steps=[('selector',\n",
       "                                                                  NumberSelector(key='NumOfProducts')),\n",
       "                                                                 ('standard',\n",
       "                                                                  StandardScaler())])),\n",
       "                                                ('EstimatedSalary',\n",
       "                                                 Pipeline(steps=[('selector',\n",
       "                                                                  NumberSelector(key='EstimatedSalary')),\n",
       "                                                                 ('standard',\n",
       "                                                                  StandardScaler())]))]))])</pre></div></div></div><div class=\"sk-serial\"><div class=\"sk-item sk-dashed-wrapped\"><div class=\"sk-label-container\"><div class=\"sk-label sk-toggleable\"><input class=\"sk-toggleable__control sk-hidden--visually\" id=\"d75a740c-b766-4226-b8d4-e04b1372bb02\" type=\"checkbox\" ><label class=\"sk-toggleable__label\" for=\"d75a740c-b766-4226-b8d4-e04b1372bb02\">feats: FeatureUnion</label><div class=\"sk-toggleable__content\"><pre>FeatureUnion(transformer_list=[('Geography',\n",
       "                                Pipeline(steps=[('selector',\n",
       "                                                 FeatureSelector(column='Geography')),\n",
       "                                                ('ohe',\n",
       "                                                 OHEEncoder(key='Geography'))])),\n",
       "                               ('Gender',\n",
       "                                Pipeline(steps=[('selector',\n",
       "                                                 FeatureSelector(column='Gender')),\n",
       "                                                ('ohe',\n",
       "                                                 OHEEncoder(key='Gender'))])),\n",
       "                               ('Tenure',\n",
       "                                Pipeline(steps=[('selector',\n",
       "                                                 FeatureSelector(column='Tenure')),\n",
       "                                                ('ohe',\n",
       "                                                 OHEEncoder(key=...\n",
       "                                                 StandardScaler())])),\n",
       "                               ('Balance',\n",
       "                                Pipeline(steps=[('selector',\n",
       "                                                 NumberSelector(key='Balance')),\n",
       "                                                ('standard',\n",
       "                                                 StandardScaler())])),\n",
       "                               ('NumOfProducts',\n",
       "                                Pipeline(steps=[('selector',\n",
       "                                                 NumberSelector(key='NumOfProducts')),\n",
       "                                                ('standard',\n",
       "                                                 StandardScaler())])),\n",
       "                               ('EstimatedSalary',\n",
       "                                Pipeline(steps=[('selector',\n",
       "                                                 NumberSelector(key='EstimatedSalary')),\n",
       "                                                ('standard',\n",
       "                                                 StandardScaler())]))])</pre></div></div></div><div class=\"sk-parallel\"><div class=\"sk-parallel-item\"><div class=\"sk-item\"><div class=\"sk-label-container\"><div class=\"sk-label sk-toggleable\"><label>Geography</label></div></div><div class=\"sk-serial\"><div class=\"sk-item\"><div class=\"sk-serial\"><div class=\"sk-item\"><div class=\"sk-estimator sk-toggleable\"><input class=\"sk-toggleable__control sk-hidden--visually\" id=\"1d0c6335-b39f-4f3f-bd8f-d1cbfd9b9e9d\" type=\"checkbox\" ><label class=\"sk-toggleable__label\" for=\"1d0c6335-b39f-4f3f-bd8f-d1cbfd9b9e9d\">FeatureSelector</label><div class=\"sk-toggleable__content\"><pre>FeatureSelector(column='Geography')</pre></div></div></div><div class=\"sk-item\"><div class=\"sk-estimator sk-toggleable\"><input class=\"sk-toggleable__control sk-hidden--visually\" id=\"c5c4d154-eaff-4f13-b476-a33a77f035af\" type=\"checkbox\" ><label class=\"sk-toggleable__label\" for=\"c5c4d154-eaff-4f13-b476-a33a77f035af\">OHEEncoder</label><div class=\"sk-toggleable__content\"><pre>OHEEncoder(key='Geography')</pre></div></div></div></div></div></div></div></div><div class=\"sk-parallel-item\"><div class=\"sk-item\"><div class=\"sk-label-container\"><div class=\"sk-label sk-toggleable\"><label>Gender</label></div></div><div class=\"sk-serial\"><div class=\"sk-item\"><div class=\"sk-serial\"><div class=\"sk-item\"><div class=\"sk-estimator sk-toggleable\"><input class=\"sk-toggleable__control sk-hidden--visually\" id=\"d6ffaaa1-f2d7-4c08-a798-81166f1a9457\" type=\"checkbox\" ><label class=\"sk-toggleable__label\" for=\"d6ffaaa1-f2d7-4c08-a798-81166f1a9457\">FeatureSelector</label><div class=\"sk-toggleable__content\"><pre>FeatureSelector(column='Gender')</pre></div></div></div><div class=\"sk-item\"><div class=\"sk-estimator sk-toggleable\"><input class=\"sk-toggleable__control sk-hidden--visually\" id=\"5aae2bb2-6a68-48e0-88c2-4b6887541600\" type=\"checkbox\" ><label class=\"sk-toggleable__label\" for=\"5aae2bb2-6a68-48e0-88c2-4b6887541600\">OHEEncoder</label><div class=\"sk-toggleable__content\"><pre>OHEEncoder(key='Gender')</pre></div></div></div></div></div></div></div></div><div class=\"sk-parallel-item\"><div class=\"sk-item\"><div class=\"sk-label-container\"><div class=\"sk-label sk-toggleable\"><label>Tenure</label></div></div><div class=\"sk-serial\"><div class=\"sk-item\"><div class=\"sk-serial\"><div class=\"sk-item\"><div class=\"sk-estimator sk-toggleable\"><input class=\"sk-toggleable__control sk-hidden--visually\" id=\"85ff5abe-8c8d-4bf0-bfa4-e23c5a6d5ff1\" type=\"checkbox\" ><label class=\"sk-toggleable__label\" for=\"85ff5abe-8c8d-4bf0-bfa4-e23c5a6d5ff1\">FeatureSelector</label><div class=\"sk-toggleable__content\"><pre>FeatureSelector(column='Tenure')</pre></div></div></div><div class=\"sk-item\"><div class=\"sk-estimator sk-toggleable\"><input class=\"sk-toggleable__control sk-hidden--visually\" id=\"f9b721e3-6abc-437d-85cd-2b36418b910b\" type=\"checkbox\" ><label class=\"sk-toggleable__label\" for=\"f9b721e3-6abc-437d-85cd-2b36418b910b\">OHEEncoder</label><div class=\"sk-toggleable__content\"><pre>OHEEncoder(key='Tenure')</pre></div></div></div></div></div></div></div></div><div class=\"sk-parallel-item\"><div class=\"sk-item\"><div class=\"sk-label-container\"><div class=\"sk-label sk-toggleable\"><label>HasCrCard</label></div></div><div class=\"sk-serial\"><div class=\"sk-item\"><div class=\"sk-serial\"><div class=\"sk-item\"><div class=\"sk-estimator sk-toggleable\"><input class=\"sk-toggleable__control sk-hidden--visually\" id=\"e7139f34-a843-4c70-bee1-74c96c99d6d8\" type=\"checkbox\" ><label class=\"sk-toggleable__label\" for=\"e7139f34-a843-4c70-bee1-74c96c99d6d8\">FeatureSelector</label><div class=\"sk-toggleable__content\"><pre>FeatureSelector(column='HasCrCard')</pre></div></div></div><div class=\"sk-item\"><div class=\"sk-estimator sk-toggleable\"><input class=\"sk-toggleable__control sk-hidden--visually\" id=\"ec888522-e9dc-4ffd-bb45-b65d68f830cd\" type=\"checkbox\" ><label class=\"sk-toggleable__label\" for=\"ec888522-e9dc-4ffd-bb45-b65d68f830cd\">OHEEncoder</label><div class=\"sk-toggleable__content\"><pre>OHEEncoder(key='HasCrCard')</pre></div></div></div></div></div></div></div></div><div class=\"sk-parallel-item\"><div class=\"sk-item\"><div class=\"sk-label-container\"><div class=\"sk-label sk-toggleable\"><label>IsActiveMember</label></div></div><div class=\"sk-serial\"><div class=\"sk-item\"><div class=\"sk-serial\"><div class=\"sk-item\"><div class=\"sk-estimator sk-toggleable\"><input class=\"sk-toggleable__control sk-hidden--visually\" id=\"04288f41-3728-4de7-856a-c48d5495627a\" type=\"checkbox\" ><label class=\"sk-toggleable__label\" for=\"04288f41-3728-4de7-856a-c48d5495627a\">FeatureSelector</label><div class=\"sk-toggleable__content\"><pre>FeatureSelector(column='IsActiveMember')</pre></div></div></div><div class=\"sk-item\"><div class=\"sk-estimator sk-toggleable\"><input class=\"sk-toggleable__control sk-hidden--visually\" id=\"caa074d8-43eb-4dc3-a8a8-7491e5f45a9a\" type=\"checkbox\" ><label class=\"sk-toggleable__label\" for=\"caa074d8-43eb-4dc3-a8a8-7491e5f45a9a\">OHEEncoder</label><div class=\"sk-toggleable__content\"><pre>OHEEncoder(key='IsActiveMember')</pre></div></div></div></div></div></div></div></div><div class=\"sk-parallel-item\"><div class=\"sk-item\"><div class=\"sk-label-container\"><div class=\"sk-label sk-toggleable\"><label>CreditScore</label></div></div><div class=\"sk-serial\"><div class=\"sk-item\"><div class=\"sk-serial\"><div class=\"sk-item\"><div class=\"sk-estimator sk-toggleable\"><input class=\"sk-toggleable__control sk-hidden--visually\" id=\"dcc83762-7d23-4531-b733-b4862e4d9d98\" type=\"checkbox\" ><label class=\"sk-toggleable__label\" for=\"dcc83762-7d23-4531-b733-b4862e4d9d98\">NumberSelector</label><div class=\"sk-toggleable__content\"><pre>NumberSelector(key='CreditScore')</pre></div></div></div><div class=\"sk-item\"><div class=\"sk-estimator sk-toggleable\"><input class=\"sk-toggleable__control sk-hidden--visually\" id=\"02a6e976-d5aa-40de-8154-254c07e418d2\" type=\"checkbox\" ><label class=\"sk-toggleable__label\" for=\"02a6e976-d5aa-40de-8154-254c07e418d2\">StandardScaler</label><div class=\"sk-toggleable__content\"><pre>StandardScaler()</pre></div></div></div></div></div></div></div></div><div class=\"sk-parallel-item\"><div class=\"sk-item\"><div class=\"sk-label-container\"><div class=\"sk-label sk-toggleable\"><label>Age</label></div></div><div class=\"sk-serial\"><div class=\"sk-item\"><div class=\"sk-serial\"><div class=\"sk-item\"><div class=\"sk-estimator sk-toggleable\"><input class=\"sk-toggleable__control sk-hidden--visually\" id=\"50c85762-b24a-47b1-a363-7fe7abb4bee5\" type=\"checkbox\" ><label class=\"sk-toggleable__label\" for=\"50c85762-b24a-47b1-a363-7fe7abb4bee5\">NumberSelector</label><div class=\"sk-toggleable__content\"><pre>NumberSelector(key='Age')</pre></div></div></div><div class=\"sk-item\"><div class=\"sk-estimator sk-toggleable\"><input class=\"sk-toggleable__control sk-hidden--visually\" id=\"e90c5307-6a4a-4647-892d-6df9f6307763\" type=\"checkbox\" ><label class=\"sk-toggleable__label\" for=\"e90c5307-6a4a-4647-892d-6df9f6307763\">StandardScaler</label><div class=\"sk-toggleable__content\"><pre>StandardScaler()</pre></div></div></div></div></div></div></div></div><div class=\"sk-parallel-item\"><div class=\"sk-item\"><div class=\"sk-label-container\"><div class=\"sk-label sk-toggleable\"><label>Balance</label></div></div><div class=\"sk-serial\"><div class=\"sk-item\"><div class=\"sk-serial\"><div class=\"sk-item\"><div class=\"sk-estimator sk-toggleable\"><input class=\"sk-toggleable__control sk-hidden--visually\" id=\"fa119d0f-cc8a-4405-9779-260f40d7e5aa\" type=\"checkbox\" ><label class=\"sk-toggleable__label\" for=\"fa119d0f-cc8a-4405-9779-260f40d7e5aa\">NumberSelector</label><div class=\"sk-toggleable__content\"><pre>NumberSelector(key='Balance')</pre></div></div></div><div class=\"sk-item\"><div class=\"sk-estimator sk-toggleable\"><input class=\"sk-toggleable__control sk-hidden--visually\" id=\"69b822f9-2ac3-46eb-8691-e3bccc880e4a\" type=\"checkbox\" ><label class=\"sk-toggleable__label\" for=\"69b822f9-2ac3-46eb-8691-e3bccc880e4a\">StandardScaler</label><div class=\"sk-toggleable__content\"><pre>StandardScaler()</pre></div></div></div></div></div></div></div></div><div class=\"sk-parallel-item\"><div class=\"sk-item\"><div class=\"sk-label-container\"><div class=\"sk-label sk-toggleable\"><label>NumOfProducts</label></div></div><div class=\"sk-serial\"><div class=\"sk-item\"><div class=\"sk-serial\"><div class=\"sk-item\"><div class=\"sk-estimator sk-toggleable\"><input class=\"sk-toggleable__control sk-hidden--visually\" id=\"5d57f8c6-9b08-4e72-b9e7-e00142789d3b\" type=\"checkbox\" ><label class=\"sk-toggleable__label\" for=\"5d57f8c6-9b08-4e72-b9e7-e00142789d3b\">NumberSelector</label><div class=\"sk-toggleable__content\"><pre>NumberSelector(key='NumOfProducts')</pre></div></div></div><div class=\"sk-item\"><div class=\"sk-estimator sk-toggleable\"><input class=\"sk-toggleable__control sk-hidden--visually\" id=\"30b2bf6d-525b-4d07-9429-da9df572380c\" type=\"checkbox\" ><label class=\"sk-toggleable__label\" for=\"30b2bf6d-525b-4d07-9429-da9df572380c\">StandardScaler</label><div class=\"sk-toggleable__content\"><pre>StandardScaler()</pre></div></div></div></div></div></div></div></div><div class=\"sk-parallel-item\"><div class=\"sk-item\"><div class=\"sk-label-container\"><div class=\"sk-label sk-toggleable\"><label>EstimatedSalary</label></div></div><div class=\"sk-serial\"><div class=\"sk-item\"><div class=\"sk-serial\"><div class=\"sk-item\"><div class=\"sk-estimator sk-toggleable\"><input class=\"sk-toggleable__control sk-hidden--visually\" id=\"db2690f1-8cea-46ca-8c8c-2a7189e88ba6\" type=\"checkbox\" ><label class=\"sk-toggleable__label\" for=\"db2690f1-8cea-46ca-8c8c-2a7189e88ba6\">NumberSelector</label><div class=\"sk-toggleable__content\"><pre>NumberSelector(key='EstimatedSalary')</pre></div></div></div><div class=\"sk-item\"><div class=\"sk-estimator sk-toggleable\"><input class=\"sk-toggleable__control sk-hidden--visually\" id=\"e3ac9a83-67f6-4223-a681-1ed005ca30e4\" type=\"checkbox\" ><label class=\"sk-toggleable__label\" for=\"e3ac9a83-67f6-4223-a681-1ed005ca30e4\">StandardScaler</label><div class=\"sk-toggleable__content\"><pre>StandardScaler()</pre></div></div></div></div></div></div></div></div></div></div></div></div><div class=\"sk-item\"><div class=\"sk-estimator sk-toggleable\"><input class=\"sk-toggleable__control sk-hidden--visually\" id=\"e179fc4d-206a-4f2e-9e08-1c0ba7631115\" type=\"checkbox\" ><label class=\"sk-toggleable__label\" for=\"e179fc4d-206a-4f2e-9e08-1c0ba7631115\">RandomForestClassifier</label><div class=\"sk-toggleable__content\"><pre>RandomForestClassifier(random_state=13)</pre></div></div></div></div></div></div></div>"
      ],
      "text/plain": [
       "Pipeline(steps=[('features',\n",
       "                 Pipeline(steps=[('feats',\n",
       "                                  FeatureUnion(transformer_list=[('Geography',\n",
       "                                                                  Pipeline(steps=[('selector',\n",
       "                                                                                   FeatureSelector(column='Geography')),\n",
       "                                                                                  ('ohe',\n",
       "                                                                                   OHEEncoder(key='Geography'))])),\n",
       "                                                                 ('Gender',\n",
       "                                                                  Pipeline(steps=[('selector',\n",
       "                                                                                   FeatureSelector(column='Gender')),\n",
       "                                                                                  ('ohe',\n",
       "                                                                                   OHEEncoder(key='Gender'))])),\n",
       "                                                                 ('Tenure',\n",
       "                                                                  Pipeline(steps=[('selector',\n",
       "                                                                                   Fea...\n",
       "                                                                                   NumberSelector(key='Balance')),\n",
       "                                                                                  ('standard',\n",
       "                                                                                   StandardScaler())])),\n",
       "                                                                 ('NumOfProducts',\n",
       "                                                                  Pipeline(steps=[('selector',\n",
       "                                                                                   NumberSelector(key='NumOfProducts')),\n",
       "                                                                                  ('standard',\n",
       "                                                                                   StandardScaler())])),\n",
       "                                                                 ('EstimatedSalary',\n",
       "                                                                  Pipeline(steps=[('selector',\n",
       "                                                                                   NumberSelector(key='EstimatedSalary')),\n",
       "                                                                                  ('standard',\n",
       "                                                                                   StandardScaler())]))]))])),\n",
       "                ('classifier', RandomForestClassifier(random_state=13))])"
      ]
     },
     "execution_count": 16,
     "metadata": {},
     "output_type": "execute_result"
    }
   ],
   "source": [
    "pipeline.fit(X_train, y_train)"
   ]
  },
  {
   "cell_type": "code",
   "execution_count": 17,
   "metadata": {},
   "outputs": [
    {
     "data": {
      "text/plain": [
       "array([0.3 , 0.19, 0.13, 0.02, 0.02, 0.76, 0.05, 0.13, 0.15, 0.68])"
      ]
     },
     "execution_count": 17,
     "metadata": {},
     "output_type": "execute_result"
    }
   ],
   "source": [
    "preds = pipeline.predict_proba(X_test)[:, 1]\n",
    "preds[:10]"
   ]
  },
  {
   "cell_type": "code",
   "execution_count": 18,
   "metadata": {},
   "outputs": [
    {
     "name": "stdout",
     "output_type": "stream",
     "text": [
      "Best Threshold=0.420000, F-Score=0.638, Precision=0.701, Recall=0.585\n"
     ]
    }
   ],
   "source": [
    "thresholds=print_sel_thresholds(y_test, preds)"
   ]
  },
  {
   "cell_type": "code",
   "execution_count": 19,
   "metadata": {},
   "outputs": [
    {
     "name": "stdout",
     "output_type": "stream",
     "text": [
      "Confusion matrix, without normalization\n",
      "[[1872  119]\n",
      " [ 219  290]]\n"
     ]
    },
    {
     "data": {
      "image/png": "[encoded data removed]",
      "text/plain": [
       "<Figure size 720x576 with 2 Axes>"
      ]
     },
     "metadata": {
      "needs_background": "light"
     },
     "output_type": "display_data"
    }
   ],
   "source": [
    "confusion_matrix_create(y_test, preds, thresholds)"
   ]
  },
  {
   "cell_type": "code",
   "execution_count": 20,
   "metadata": {},
   "outputs": [],
   "source": [
    "models_results['approach'].append('RandomForestClassifier')\n",
    "models_results['F-Score'].append(0.641)\n",
    "models_results['Precision'].append(0.653)\n",
    "models_results['Recall'].append(0.629)"
   ]
  },
  {
   "cell_type": "code",
   "execution_count": 21,
   "metadata": {},
   "outputs": [],
   "source": [
    "model = LogisticRegression(random_state=13)"
   ]
  },
  {
   "cell_type": "code",
   "execution_count": 22,
   "metadata": {},
   "outputs": [],
   "source": [
    "pipeline = Pipeline([\n",
    "    ('features', feature_processing),\n",
    "    ('classifier', model),\n",
    "])"
   ]
  },
  {
   "cell_type": "code",
   "execution_count": 23,
   "metadata": {},
   "outputs": [
    {
     "data": {
      "text/html": [
       "<style>div.sk-top-container {color: black;background-color: white;}div.sk-toggleable {background-color: white;}label.sk-toggleable__label {cursor: pointer;display: block;width: 100%;margin-bottom: 0;padding: 0.2em 0.3em;box-sizing: border-box;text-align: center;}div.sk-toggleable__content {max-height: 0;max-width: 0;overflow: hidden;text-align: left;background-color: #f0f8ff;}div.sk-toggleable__content pre {margin: 0.2em;color: black;border-radius: 0.25em;background-color: #f0f8ff;}input.sk-toggleable__control:checked~div.sk-toggleable__content {max-height: 200px;max-width: 100%;overflow: auto;}div.sk-estimator input.sk-toggleable__control:checked~label.sk-toggleable__label {background-color: #d4ebff;}div.sk-label input.sk-toggleable__control:checked~label.sk-toggleable__label {background-color: #d4ebff;}input.sk-hidden--visually {border: 0;clip: rect(1px 1px 1px 1px);clip: rect(1px, 1px, 1px, 1px);height: 1px;margin: -1px;overflow: hidden;padding: 0;position: absolute;width: 1px;}div.sk-estimator {font-family: monospace;background-color: #f0f8ff;margin: 0.25em 0.25em;border: 1px dotted black;border-radius: 0.25em;box-sizing: border-box;}div.sk-estimator:hover {background-color: #d4ebff;}div.sk-parallel-item::after {content: \"\";width: 100%;border-bottom: 1px solid gray;flex-grow: 1;}div.sk-label:hover label.sk-toggleable__label {background-color: #d4ebff;}div.sk-serial::before {content: \"\";position: absolute;border-left: 1px solid gray;box-sizing: border-box;top: 2em;bottom: 0;left: 50%;}div.sk-serial {display: flex;flex-direction: column;align-items: center;background-color: white;}div.sk-item {z-index: 1;}div.sk-parallel {display: flex;align-items: stretch;justify-content: center;background-color: white;}div.sk-parallel-item {display: flex;flex-direction: column;position: relative;background-color: white;}div.sk-parallel-item:first-child::after {align-self: flex-end;width: 50%;}div.sk-parallel-item:last-child::after {align-self: flex-start;width: 50%;}div.sk-parallel-item:only-child::after {width: 0;}div.sk-dashed-wrapped {border: 1px dashed gray;margin: 0.2em;box-sizing: border-box;padding-bottom: 0.1em;background-color: white;position: relative;}div.sk-label label {font-family: monospace;font-weight: bold;background-color: white;display: inline-block;line-height: 1.2em;}div.sk-label-container {position: relative;z-index: 2;text-align: center;}div.sk-container {display: inline-block;position: relative;}</style><div class=\"sk-top-container\"><div class=\"sk-container\"><div class=\"sk-item sk-dashed-wrapped\"><div class=\"sk-label-container\"><div class=\"sk-label sk-toggleable\"><input class=\"sk-toggleable__control sk-hidden--visually\" id=\"71343425-aefd-4ca3-8014-8798be21c8f9\" type=\"checkbox\" ><label class=\"sk-toggleable__label\" for=\"71343425-aefd-4ca3-8014-8798be21c8f9\">Pipeline</label><div class=\"sk-toggleable__content\"><pre>Pipeline(steps=[('features',\n",
       "                 Pipeline(steps=[('feats',\n",
       "                                  FeatureUnion(transformer_list=[('Geography',\n",
       "                                                                  Pipeline(steps=[('selector',\n",
       "                                                                                   FeatureSelector(column='Geography')),\n",
       "                                                                                  ('ohe',\n",
       "                                                                                   OHEEncoder(key='Geography'))])),\n",
       "                                                                 ('Gender',\n",
       "                                                                  Pipeline(steps=[('selector',\n",
       "                                                                                   FeatureSelector(column='Gender')),\n",
       "                                                                                  ('ohe',\n",
       "                                                                                   OHEEncoder(key='Gender'))])),\n",
       "                                                                 ('Tenure',\n",
       "                                                                  Pipeline(steps=[('selector',\n",
       "                                                                                   Fea...\n",
       "                                                                                   NumberSelector(key='Balance')),\n",
       "                                                                                  ('standard',\n",
       "                                                                                   StandardScaler())])),\n",
       "                                                                 ('NumOfProducts',\n",
       "                                                                  Pipeline(steps=[('selector',\n",
       "                                                                                   NumberSelector(key='NumOfProducts')),\n",
       "                                                                                  ('standard',\n",
       "                                                                                   StandardScaler())])),\n",
       "                                                                 ('EstimatedSalary',\n",
       "                                                                  Pipeline(steps=[('selector',\n",
       "                                                                                   NumberSelector(key='EstimatedSalary')),\n",
       "                                                                                  ('standard',\n",
       "                                                                                   StandardScaler())]))]))])),\n",
       "                ('classifier', LogisticRegression(random_state=13))])</pre></div></div></div><div class=\"sk-serial\"><div class=\"sk-item\"><div class=\"sk-label-container\"><div class=\"sk-label sk-toggleable\"><input class=\"sk-toggleable__control sk-hidden--visually\" id=\"ebcc0d64-dfea-4105-afef-a64707b0009d\" type=\"checkbox\" ><label class=\"sk-toggleable__label\" for=\"ebcc0d64-dfea-4105-afef-a64707b0009d\">features: Pipeline</label><div class=\"sk-toggleable__content\"><pre>Pipeline(steps=[('feats',\n",
       "                 FeatureUnion(transformer_list=[('Geography',\n",
       "                                                 Pipeline(steps=[('selector',\n",
       "                                                                  FeatureSelector(column='Geography')),\n",
       "                                                                 ('ohe',\n",
       "                                                                  OHEEncoder(key='Geography'))])),\n",
       "                                                ('Gender',\n",
       "                                                 Pipeline(steps=[('selector',\n",
       "                                                                  FeatureSelector(column='Gender')),\n",
       "                                                                 ('ohe',\n",
       "                                                                  OHEEncoder(key='Gender'))])),\n",
       "                                                ('Tenure',\n",
       "                                                 Pipeline(steps=[('selector',\n",
       "                                                                  FeatureSelector(column='Tenure'...\n",
       "                                                                  StandardScaler())])),\n",
       "                                                ('Balance',\n",
       "                                                 Pipeline(steps=[('selector',\n",
       "                                                                  NumberSelector(key='Balance')),\n",
       "                                                                 ('standard',\n",
       "                                                                  StandardScaler())])),\n",
       "                                                ('NumOfProducts',\n",
       "                                                 Pipeline(steps=[('selector',\n",
       "                                                                  NumberSelector(key='NumOfProducts')),\n",
       "                                                                 ('standard',\n",
       "                                                                  StandardScaler())])),\n",
       "                                                ('EstimatedSalary',\n",
       "                                                 Pipeline(steps=[('selector',\n",
       "                                                                  NumberSelector(key='EstimatedSalary')),\n",
       "                                                                 ('standard',\n",
       "                                                                  StandardScaler())]))]))])</pre></div></div></div><div class=\"sk-serial\"><div class=\"sk-item sk-dashed-wrapped\"><div class=\"sk-label-container\"><div class=\"sk-label sk-toggleable\"><input class=\"sk-toggleable__control sk-hidden--visually\" id=\"15def150-14c0-4441-a83a-9567a7350b53\" type=\"checkbox\" ><label class=\"sk-toggleable__label\" for=\"15def150-14c0-4441-a83a-9567a7350b53\">feats: FeatureUnion</label><div class=\"sk-toggleable__content\"><pre>FeatureUnion(transformer_list=[('Geography',\n",
       "                                Pipeline(steps=[('selector',\n",
       "                                                 FeatureSelector(column='Geography')),\n",
       "                                                ('ohe',\n",
       "                                                 OHEEncoder(key='Geography'))])),\n",
       "                               ('Gender',\n",
       "                                Pipeline(steps=[('selector',\n",
       "                                                 FeatureSelector(column='Gender')),\n",
       "                                                ('ohe',\n",
       "                                                 OHEEncoder(key='Gender'))])),\n",
       "                               ('Tenure',\n",
       "                                Pipeline(steps=[('selector',\n",
       "                                                 FeatureSelector(column='Tenure')),\n",
       "                                                ('ohe',\n",
       "                                                 OHEEncoder(key=...\n",
       "                                                 StandardScaler())])),\n",
       "                               ('Balance',\n",
       "                                Pipeline(steps=[('selector',\n",
       "                                                 NumberSelector(key='Balance')),\n",
       "                                                ('standard',\n",
       "                                                 StandardScaler())])),\n",
       "                               ('NumOfProducts',\n",
       "                                Pipeline(steps=[('selector',\n",
       "                                                 NumberSelector(key='NumOfProducts')),\n",
       "                                                ('standard',\n",
       "                                                 StandardScaler())])),\n",
       "                               ('EstimatedSalary',\n",
       "                                Pipeline(steps=[('selector',\n",
       "                                                 NumberSelector(key='EstimatedSalary')),\n",
       "                                                ('standard',\n",
       "                                                 StandardScaler())]))])</pre></div></div></div><div class=\"sk-parallel\"><div class=\"sk-parallel-item\"><div class=\"sk-item\"><div class=\"sk-label-container\"><div class=\"sk-label sk-toggleable\"><label>Geography</label></div></div><div class=\"sk-serial\"><div class=\"sk-item\"><div class=\"sk-serial\"><div class=\"sk-item\"><div class=\"sk-estimator sk-toggleable\"><input class=\"sk-toggleable__control sk-hidden--visually\" id=\"3f08bed9-d8b9-49ff-925c-2150b36b2c3c\" type=\"checkbox\" ><label class=\"sk-toggleable__label\" for=\"3f08bed9-d8b9-49ff-925c-2150b36b2c3c\">FeatureSelector</label><div class=\"sk-toggleable__content\"><pre>FeatureSelector(column='Geography')</pre></div></div></div><div class=\"sk-item\"><div class=\"sk-estimator sk-toggleable\"><input class=\"sk-toggleable__control sk-hidden--visually\" id=\"580d8007-f8f6-4c82-bb78-9254c3d26478\" type=\"checkbox\" ><label class=\"sk-toggleable__label\" for=\"580d8007-f8f6-4c82-bb78-9254c3d26478\">OHEEncoder</label><div class=\"sk-toggleable__content\"><pre>OHEEncoder(key='Geography')</pre></div></div></div></div></div></div></div></div><div class=\"sk-parallel-item\"><div class=\"sk-item\"><div class=\"sk-label-container\"><div class=\"sk-label sk-toggleable\"><label>Gender</label></div></div><div class=\"sk-serial\"><div class=\"sk-item\"><div class=\"sk-serial\"><div class=\"sk-item\"><div class=\"sk-estimator sk-toggleable\"><input class=\"sk-toggleable__control sk-hidden--visually\" id=\"d4e29172-80ce-41ea-8a06-6a802557e2b7\" type=\"checkbox\" ><label class=\"sk-toggleable__label\" for=\"d4e29172-80ce-41ea-8a06-6a802557e2b7\">FeatureSelector</label><div class=\"sk-toggleable__content\"><pre>FeatureSelector(column='Gender')</pre></div></div></div><div class=\"sk-item\"><div class=\"sk-estimator sk-toggleable\"><input class=\"sk-toggleable__control sk-hidden--visually\" id=\"df45c3a6-ebc4-40ba-9778-c53a165112da\" type=\"checkbox\" ><label class=\"sk-toggleable__label\" for=\"df45c3a6-ebc4-40ba-9778-c53a165112da\">OHEEncoder</label><div class=\"sk-toggleable__content\"><pre>OHEEncoder(key='Gender')</pre></div></div></div></div></div></div></div></div><div class=\"sk-parallel-item\"><div class=\"sk-item\"><div class=\"sk-label-container\"><div class=\"sk-label sk-toggleable\"><label>Tenure</label></div></div><div class=\"sk-serial\"><div class=\"sk-item\"><div class=\"sk-serial\"><div class=\"sk-item\"><div class=\"sk-estimator sk-toggleable\"><input class=\"sk-toggleable__control sk-hidden--visually\" id=\"e05ca368-5ed5-472c-be19-b8cf298e812f\" type=\"checkbox\" ><label class=\"sk-toggleable__label\" for=\"e05ca368-5ed5-472c-be19-b8cf298e812f\">FeatureSelector</label><div class=\"sk-toggleable__content\"><pre>FeatureSelector(column='Tenure')</pre></div></div></div><div class=\"sk-item\"><div class=\"sk-estimator sk-toggleable\"><input class=\"sk-toggleable__control sk-hidden--visually\" id=\"ac5bcee1-7391-4d4c-ba70-cd5c005722ce\" type=\"checkbox\" ><label class=\"sk-toggleable__label\" for=\"ac5bcee1-7391-4d4c-ba70-cd5c005722ce\">OHEEncoder</label><div class=\"sk-toggleable__content\"><pre>OHEEncoder(key='Tenure')</pre></div></div></div></div></div></div></div></div><div class=\"sk-parallel-item\"><div class=\"sk-item\"><div class=\"sk-label-container\"><div class=\"sk-label sk-toggleable\"><label>HasCrCard</label></div></div><div class=\"sk-serial\"><div class=\"sk-item\"><div class=\"sk-serial\"><div class=\"sk-item\"><div class=\"sk-estimator sk-toggleable\"><input class=\"sk-toggleable__control sk-hidden--visually\" id=\"db0eca36-3b4c-47fa-b0a2-e7b2325f7b9a\" type=\"checkbox\" ><label class=\"sk-toggleable__label\" for=\"db0eca36-3b4c-47fa-b0a2-e7b2325f7b9a\">FeatureSelector</label><div class=\"sk-toggleable__content\"><pre>FeatureSelector(column='HasCrCard')</pre></div></div></div><div class=\"sk-item\"><div class=\"sk-estimator sk-toggleable\"><input class=\"sk-toggleable__control sk-hidden--visually\" id=\"eca8ca6d-645a-43d7-8fee-d18dd3feb8b8\" type=\"checkbox\" ><label class=\"sk-toggleable__label\" for=\"eca8ca6d-645a-43d7-8fee-d18dd3feb8b8\">OHEEncoder</label><div class=\"sk-toggleable__content\"><pre>OHEEncoder(key='HasCrCard')</pre></div></div></div></div></div></div></div></div><div class=\"sk-parallel-item\"><div class=\"sk-item\"><div class=\"sk-label-container\"><div class=\"sk-label sk-toggleable\"><label>IsActiveMember</label></div></div><div class=\"sk-serial\"><div class=\"sk-item\"><div class=\"sk-serial\"><div class=\"sk-item\"><div class=\"sk-estimator sk-toggleable\"><input class=\"sk-toggleable__control sk-hidden--visually\" id=\"033aaa06-182c-4a5d-b14c-e1fa6911a2fc\" type=\"checkbox\" ><label class=\"sk-toggleable__label\" for=\"033aaa06-182c-4a5d-b14c-e1fa6911a2fc\">FeatureSelector</label><div class=\"sk-toggleable__content\"><pre>FeatureSelector(column='IsActiveMember')</pre></div></div></div><div class=\"sk-item\"><div class=\"sk-estimator sk-toggleable\"><input class=\"sk-toggleable__control sk-hidden--visually\" id=\"0800987d-71fc-41fe-ad29-99b508f76eae\" type=\"checkbox\" ><label class=\"sk-toggleable__label\" for=\"0800987d-71fc-41fe-ad29-99b508f76eae\">OHEEncoder</label><div class=\"sk-toggleable__content\"><pre>OHEEncoder(key='IsActiveMember')</pre></div></div></div></div></div></div></div></div><div class=\"sk-parallel-item\"><div class=\"sk-item\"><div class=\"sk-label-container\"><div class=\"sk-label sk-toggleable\"><label>CreditScore</label></div></div><div class=\"sk-serial\"><div class=\"sk-item\"><div class=\"sk-serial\"><div class=\"sk-item\"><div class=\"sk-estimator sk-toggleable\"><input class=\"sk-toggleable__control sk-hidden--visually\" id=\"ce12aff4-a96a-42e9-a692-45bffa47a291\" type=\"checkbox\" ><label class=\"sk-toggleable__label\" for=\"ce12aff4-a96a-42e9-a692-45bffa47a291\">NumberSelector</label><div class=\"sk-toggleable__content\"><pre>NumberSelector(key='CreditScore')</pre></div></div></div><div class=\"sk-item\"><div class=\"sk-estimator sk-toggleable\"><input class=\"sk-toggleable__control sk-hidden--visually\" id=\"d41bcc39-99bb-4053-bd82-e555d467fc2b\" type=\"checkbox\" ><label class=\"sk-toggleable__label\" for=\"d41bcc39-99bb-4053-bd82-e555d467fc2b\">StandardScaler</label><div class=\"sk-toggleable__content\"><pre>StandardScaler()</pre></div></div></div></div></div></div></div></div><div class=\"sk-parallel-item\"><div class=\"sk-item\"><div class=\"sk-label-container\"><div class=\"sk-label sk-toggleable\"><label>Age</label></div></div><div class=\"sk-serial\"><div class=\"sk-item\"><div class=\"sk-serial\"><div class=\"sk-item\"><div class=\"sk-estimator sk-toggleable\"><input class=\"sk-toggleable__control sk-hidden--visually\" id=\"2fb2a0f1-c000-4a66-855f-55ab7275ac8d\" type=\"checkbox\" ><label class=\"sk-toggleable__label\" for=\"2fb2a0f1-c000-4a66-855f-55ab7275ac8d\">NumberSelector</label><div class=\"sk-toggleable__content\"><pre>NumberSelector(key='Age')</pre></div></div></div><div class=\"sk-item\"><div class=\"sk-estimator sk-toggleable\"><input class=\"sk-toggleable__control sk-hidden--visually\" id=\"a3e37765-3fd4-45d4-8a22-666ad52fe181\" type=\"checkbox\" ><label class=\"sk-toggleable__label\" for=\"a3e37765-3fd4-45d4-8a22-666ad52fe181\">StandardScaler</label><div class=\"sk-toggleable__content\"><pre>StandardScaler()</pre></div></div></div></div></div></div></div></div><div class=\"sk-parallel-item\"><div class=\"sk-item\"><div class=\"sk-label-container\"><div class=\"sk-label sk-toggleable\"><label>Balance</label></div></div><div class=\"sk-serial\"><div class=\"sk-item\"><div class=\"sk-serial\"><div class=\"sk-item\"><div class=\"sk-estimator sk-toggleable\"><input class=\"sk-toggleable__control sk-hidden--visually\" id=\"9fb6fa72-f6ac-4df4-8727-7a616841763d\" type=\"checkbox\" ><label class=\"sk-toggleable__label\" for=\"9fb6fa72-f6ac-4df4-8727-7a616841763d\">NumberSelector</label><div class=\"sk-toggleable__content\"><pre>NumberSelector(key='Balance')</pre></div></div></div><div class=\"sk-item\"><div class=\"sk-estimator sk-toggleable\"><input class=\"sk-toggleable__control sk-hidden--visually\" id=\"d4e3a357-dc99-4a37-852c-9d5a7940b2d9\" type=\"checkbox\" ><label class=\"sk-toggleable__label\" for=\"d4e3a357-dc99-4a37-852c-9d5a7940b2d9\">StandardScaler</label><div class=\"sk-toggleable__content\"><pre>StandardScaler()</pre></div></div></div></div></div></div></div></div><div class=\"sk-parallel-item\"><div class=\"sk-item\"><div class=\"sk-label-container\"><div class=\"sk-label sk-toggleable\"><label>NumOfProducts</label></div></div><div class=\"sk-serial\"><div class=\"sk-item\"><div class=\"sk-serial\"><div class=\"sk-item\"><div class=\"sk-estimator sk-toggleable\"><input class=\"sk-toggleable__control sk-hidden--visually\" id=\"c27897b0-0359-4083-aadc-9eef127f6c2e\" type=\"checkbox\" ><label class=\"sk-toggleable__label\" for=\"c27897b0-0359-4083-aadc-9eef127f6c2e\">NumberSelector</label><div class=\"sk-toggleable__content\"><pre>NumberSelector(key='NumOfProducts')</pre></div></div></div><div class=\"sk-item\"><div class=\"sk-estimator sk-toggleable\"><input class=\"sk-toggleable__control sk-hidden--visually\" id=\"24421783-d9e4-4a33-81ad-4a82a557aec7\" type=\"checkbox\" ><label class=\"sk-toggleable__label\" for=\"24421783-d9e4-4a33-81ad-4a82a557aec7\">StandardScaler</label><div class=\"sk-toggleable__content\"><pre>StandardScaler()</pre></div></div></div></div></div></div></div></div><div class=\"sk-parallel-item\"><div class=\"sk-item\"><div class=\"sk-label-container\"><div class=\"sk-label sk-toggleable\"><label>EstimatedSalary</label></div></div><div class=\"sk-serial\"><div class=\"sk-item\"><div class=\"sk-serial\"><div class=\"sk-item\"><div class=\"sk-estimator sk-toggleable\"><input class=\"sk-toggleable__control sk-hidden--visually\" id=\"d99a0405-33a0-473e-9e37-021971c64617\" type=\"checkbox\" ><label class=\"sk-toggleable__label\" for=\"d99a0405-33a0-473e-9e37-021971c64617\">NumberSelector</label><div class=\"sk-toggleable__content\"><pre>NumberSelector(key='EstimatedSalary')</pre></div></div></div><div class=\"sk-item\"><div class=\"sk-estimator sk-toggleable\"><input class=\"sk-toggleable__control sk-hidden--visually\" id=\"ad6aa224-8ad7-46f9-b827-357cd90051a0\" type=\"checkbox\" ><label class=\"sk-toggleable__label\" for=\"ad6aa224-8ad7-46f9-b827-357cd90051a0\">StandardScaler</label><div class=\"sk-toggleable__content\"><pre>StandardScaler()</pre></div></div></div></div></div></div></div></div></div></div></div></div><div class=\"sk-item\"><div class=\"sk-estimator sk-toggleable\"><input class=\"sk-toggleable__control sk-hidden--visually\" id=\"89ad3362-11a1-4221-998c-388a39f2bf76\" type=\"checkbox\" ><label class=\"sk-toggleable__label\" for=\"89ad3362-11a1-4221-998c-388a39f2bf76\">LogisticRegression</label><div class=\"sk-toggleable__content\"><pre>LogisticRegression(random_state=13)</pre></div></div></div></div></div></div></div>"
      ],
      "text/plain": [
       "Pipeline(steps=[('features',\n",
       "                 Pipeline(steps=[('feats',\n",
       "                                  FeatureUnion(transformer_list=[('Geography',\n",
       "                                                                  Pipeline(steps=[('selector',\n",
       "                                                                                   FeatureSelector(column='Geography')),\n",
       "                                                                                  ('ohe',\n",
       "                                                                                   OHEEncoder(key='Geography'))])),\n",
       "                                                                 ('Gender',\n",
       "                                                                  Pipeline(steps=[('selector',\n",
       "                                                                                   FeatureSelector(column='Gender')),\n",
       "                                                                                  ('ohe',\n",
       "                                                                                   OHEEncoder(key='Gender'))])),\n",
       "                                                                 ('Tenure',\n",
       "                                                                  Pipeline(steps=[('selector',\n",
       "                                                                                   Fea...\n",
       "                                                                                   NumberSelector(key='Balance')),\n",
       "                                                                                  ('standard',\n",
       "                                                                                   StandardScaler())])),\n",
       "                                                                 ('NumOfProducts',\n",
       "                                                                  Pipeline(steps=[('selector',\n",
       "                                                                                   NumberSelector(key='NumOfProducts')),\n",
       "                                                                                  ('standard',\n",
       "                                                                                   StandardScaler())])),\n",
       "                                                                 ('EstimatedSalary',\n",
       "                                                                  Pipeline(steps=[('selector',\n",
       "                                                                                   NumberSelector(key='EstimatedSalary')),\n",
       "                                                                                  ('standard',\n",
       "                                                                                   StandardScaler())]))]))])),\n",
       "                ('classifier', LogisticRegression(random_state=13))])"
      ]
     },
     "execution_count": 23,
     "metadata": {},
     "output_type": "execute_result"
    }
   ],
   "source": [
    "pipeline.fit(X_train, y_train)"
   ]
  },
  {
   "cell_type": "code",
   "execution_count": 24,
   "metadata": {},
   "outputs": [
    {
     "data": {
      "text/plain": [
       "array([0.22805865, 0.3350657 , 0.15347886, 0.12466446, 0.15507743,\n",
       "       0.6431308 , 0.06214346, 0.077948  , 0.36717132, 0.76751542])"
      ]
     },
     "execution_count": 24,
     "metadata": {},
     "output_type": "execute_result"
    }
   ],
   "source": [
    "preds = pipeline.predict_proba(X_test)[:, 1]\n",
    "preds[:10]"
   ]
  },
  {
   "cell_type": "code",
   "execution_count": 25,
   "metadata": {},
   "outputs": [
    {
     "name": "stdout",
     "output_type": "stream",
     "text": [
      "Best Threshold=0.289522, F-Score=0.510, Precision=0.462, Recall=0.568\n"
     ]
    }
   ],
   "source": [
    "thresholds=print_sel_thresholds(y_test, preds)"
   ]
  },
  {
   "cell_type": "code",
   "execution_count": 26,
   "metadata": {},
   "outputs": [
    {
     "name": "stdout",
     "output_type": "stream",
     "text": [
      "Confusion matrix, without normalization\n",
      "[[1655  336]\n",
      " [ 221  288]]\n"
     ]
    },
    {
     "data": {
      "image/png": "[encoded data removed]",
      "text/plain": [
       "<Figure size 720x576 with 2 Axes>"
      ]
     },
     "metadata": {
      "needs_background": "light"
     },
     "output_type": "display_data"
    }
   ],
   "source": [
    "confusion_matrix_create(y_test, preds, thresholds)"
   ]
  },
  {
   "cell_type": "code",
   "execution_count": 27,
   "metadata": {},
   "outputs": [],
   "source": [
    "models_results['approach'].append('LogisticRegression')\n",
    "models_results['F-Score'].append(0.510)\n",
    "models_results['Precision'].append(0.462)\n",
    "models_results['Recall'].append(0.568)"
   ]
  },
  {
   "cell_type": "code",
   "execution_count": 28,
   "metadata": {},
   "outputs": [],
   "source": [
    "from sklearn.ensemble import AdaBoostClassifier\n",
    "\n",
    "model = AdaBoostClassifier(n_estimators=100)"
   ]
  },
  {
   "cell_type": "code",
   "execution_count": 29,
   "metadata": {},
   "outputs": [],
   "source": [
    "pipeline = Pipeline([\n",
    "    ('features', feature_processing),\n",
    "    ('classifier', model),\n",
    "])"
   ]
  },
  {
   "cell_type": "code",
   "execution_count": 30,
   "metadata": {},
   "outputs": [
    {
     "data": {
      "text/html": [
       "<style>div.sk-top-container {color: black;background-color: white;}div.sk-toggleable {background-color: white;}label.sk-toggleable__label {cursor: pointer;display: block;width: 100%;margin-bottom: 0;padding: 0.2em 0.3em;box-sizing: border-box;text-align: center;}div.sk-toggleable__content {max-height: 0;max-width: 0;overflow: hidden;text-align: left;background-color: #f0f8ff;}div.sk-toggleable__content pre {margin: 0.2em;color: black;border-radius: 0.25em;background-color: #f0f8ff;}input.sk-toggleable__control:checked~div.sk-toggleable__content {max-height: 200px;max-width: 100%;overflow: auto;}div.sk-estimator input.sk-toggleable__control:checked~label.sk-toggleable__label {background-color: #d4ebff;}div.sk-label input.sk-toggleable__control:checked~label.sk-toggleable__label {background-color: #d4ebff;}input.sk-hidden--visually {border: 0;clip: rect(1px 1px 1px 1px);clip: rect(1px, 1px, 1px, 1px);height: 1px;margin: -1px;overflow: hidden;padding: 0;position: absolute;width: 1px;}div.sk-estimator {font-family: monospace;background-color: #f0f8ff;margin: 0.25em 0.25em;border: 1px dotted black;border-radius: 0.25em;box-sizing: border-box;}div.sk-estimator:hover {background-color: #d4ebff;}div.sk-parallel-item::after {content: \"\";width: 100%;border-bottom: 1px solid gray;flex-grow: 1;}div.sk-label:hover label.sk-toggleable__label {background-color: #d4ebff;}div.sk-serial::before {content: \"\";position: absolute;border-left: 1px solid gray;box-sizing: border-box;top: 2em;bottom: 0;left: 50%;}div.sk-serial {display: flex;flex-direction: column;align-items: center;background-color: white;}div.sk-item {z-index: 1;}div.sk-parallel {display: flex;align-items: stretch;justify-content: center;background-color: white;}div.sk-parallel-item {display: flex;flex-direction: column;position: relative;background-color: white;}div.sk-parallel-item:first-child::after {align-self: flex-end;width: 50%;}div.sk-parallel-item:last-child::after {align-self: flex-start;width: 50%;}div.sk-parallel-item:only-child::after {width: 0;}div.sk-dashed-wrapped {border: 1px dashed gray;margin: 0.2em;box-sizing: border-box;padding-bottom: 0.1em;background-color: white;position: relative;}div.sk-label label {font-family: monospace;font-weight: bold;background-color: white;display: inline-block;line-height: 1.2em;}div.sk-label-container {position: relative;z-index: 2;text-align: center;}div.sk-container {display: inline-block;position: relative;}</style><div class=\"sk-top-container\"><div class=\"sk-container\"><div class=\"sk-item sk-dashed-wrapped\"><div class=\"sk-label-container\"><div class=\"sk-label sk-toggleable\"><input class=\"sk-toggleable__control sk-hidden--visually\" id=\"b2447461-d2a0-43ab-ac98-b419ed0f6a57\" type=\"checkbox\" ><label class=\"sk-toggleable__label\" for=\"b2447461-d2a0-43ab-ac98-b419ed0f6a57\">Pipeline</label><div class=\"sk-toggleable__content\"><pre>Pipeline(steps=[('features',\n",
       "                 Pipeline(steps=[('feats',\n",
       "                                  FeatureUnion(transformer_list=[('Geography',\n",
       "                                                                  Pipeline(steps=[('selector',\n",
       "                                                                                   FeatureSelector(column='Geography')),\n",
       "                                                                                  ('ohe',\n",
       "                                                                                   OHEEncoder(key='Geography'))])),\n",
       "                                                                 ('Gender',\n",
       "                                                                  Pipeline(steps=[('selector',\n",
       "                                                                                   FeatureSelector(column='Gender')),\n",
       "                                                                                  ('ohe',\n",
       "                                                                                   OHEEncoder(key='Gender'))])),\n",
       "                                                                 ('Tenure',\n",
       "                                                                  Pipeline(steps=[('selector',\n",
       "                                                                                   Fea...\n",
       "                                                                                   NumberSelector(key='Balance')),\n",
       "                                                                                  ('standard',\n",
       "                                                                                   StandardScaler())])),\n",
       "                                                                 ('NumOfProducts',\n",
       "                                                                  Pipeline(steps=[('selector',\n",
       "                                                                                   NumberSelector(key='NumOfProducts')),\n",
       "                                                                                  ('standard',\n",
       "                                                                                   StandardScaler())])),\n",
       "                                                                 ('EstimatedSalary',\n",
       "                                                                  Pipeline(steps=[('selector',\n",
       "                                                                                   NumberSelector(key='EstimatedSalary')),\n",
       "                                                                                  ('standard',\n",
       "                                                                                   StandardScaler())]))]))])),\n",
       "                ('classifier', AdaBoostClassifier(n_estimators=100))])</pre></div></div></div><div class=\"sk-serial\"><div class=\"sk-item\"><div class=\"sk-label-container\"><div class=\"sk-label sk-toggleable\"><input class=\"sk-toggleable__control sk-hidden--visually\" id=\"e925d5b3-6541-458d-b85d-303a5df1e512\" type=\"checkbox\" ><label class=\"sk-toggleable__label\" for=\"e925d5b3-6541-458d-b85d-303a5df1e512\">features: Pipeline</label><div class=\"sk-toggleable__content\"><pre>Pipeline(steps=[('feats',\n",
       "                 FeatureUnion(transformer_list=[('Geography',\n",
       "                                                 Pipeline(steps=[('selector',\n",
       "                                                                  FeatureSelector(column='Geography')),\n",
       "                                                                 ('ohe',\n",
       "                                                                  OHEEncoder(key='Geography'))])),\n",
       "                                                ('Gender',\n",
       "                                                 Pipeline(steps=[('selector',\n",
       "                                                                  FeatureSelector(column='Gender')),\n",
       "                                                                 ('ohe',\n",
       "                                                                  OHEEncoder(key='Gender'))])),\n",
       "                                                ('Tenure',\n",
       "                                                 Pipeline(steps=[('selector',\n",
       "                                                                  FeatureSelector(column='Tenure'...\n",
       "                                                                  StandardScaler())])),\n",
       "                                                ('Balance',\n",
       "                                                 Pipeline(steps=[('selector',\n",
       "                                                                  NumberSelector(key='Balance')),\n",
       "                                                                 ('standard',\n",
       "                                                                  StandardScaler())])),\n",
       "                                                ('NumOfProducts',\n",
       "                                                 Pipeline(steps=[('selector',\n",
       "                                                                  NumberSelector(key='NumOfProducts')),\n",
       "                                                                 ('standard',\n",
       "                                                                  StandardScaler())])),\n",
       "                                                ('EstimatedSalary',\n",
       "                                                 Pipeline(steps=[('selector',\n",
       "                                                                  NumberSelector(key='EstimatedSalary')),\n",
       "                                                                 ('standard',\n",
       "                                                                  StandardScaler())]))]))])</pre></div></div></div><div class=\"sk-serial\"><div class=\"sk-item sk-dashed-wrapped\"><div class=\"sk-label-container\"><div class=\"sk-label sk-toggleable\"><input class=\"sk-toggleable__control sk-hidden--visually\" id=\"2f65c4a1-027a-434b-80fa-b32aff9597d8\" type=\"checkbox\" ><label class=\"sk-toggleable__label\" for=\"2f65c4a1-027a-434b-80fa-b32aff9597d8\">feats: FeatureUnion</label><div class=\"sk-toggleable__content\"><pre>FeatureUnion(transformer_list=[('Geography',\n",
       "                                Pipeline(steps=[('selector',\n",
       "                                                 FeatureSelector(column='Geography')),\n",
       "                                                ('ohe',\n",
       "                                                 OHEEncoder(key='Geography'))])),\n",
       "                               ('Gender',\n",
       "                                Pipeline(steps=[('selector',\n",
       "                                                 FeatureSelector(column='Gender')),\n",
       "                                                ('ohe',\n",
       "                                                 OHEEncoder(key='Gender'))])),\n",
       "                               ('Tenure',\n",
       "                                Pipeline(steps=[('selector',\n",
       "                                                 FeatureSelector(column='Tenure')),\n",
       "                                                ('ohe',\n",
       "                                                 OHEEncoder(key=...\n",
       "                                                 StandardScaler())])),\n",
       "                               ('Balance',\n",
       "                                Pipeline(steps=[('selector',\n",
       "                                                 NumberSelector(key='Balance')),\n",
       "                                                ('standard',\n",
       "                                                 StandardScaler())])),\n",
       "                               ('NumOfProducts',\n",
       "                                Pipeline(steps=[('selector',\n",
       "                                                 NumberSelector(key='NumOfProducts')),\n",
       "                                                ('standard',\n",
       "                                                 StandardScaler())])),\n",
       "                               ('EstimatedSalary',\n",
       "                                Pipeline(steps=[('selector',\n",
       "                                                 NumberSelector(key='EstimatedSalary')),\n",
       "                                                ('standard',\n",
       "                                                 StandardScaler())]))])</pre></div></div></div><div class=\"sk-parallel\"><div class=\"sk-parallel-item\"><div class=\"sk-item\"><div class=\"sk-label-container\"><div class=\"sk-label sk-toggleable\"><label>Geography</label></div></div><div class=\"sk-serial\"><div class=\"sk-item\"><div class=\"sk-serial\"><div class=\"sk-item\"><div class=\"sk-estimator sk-toggleable\"><input class=\"sk-toggleable__control sk-hidden--visually\" id=\"ef92111c-9c49-477e-8f7a-43139f4e632b\" type=\"checkbox\" ><label class=\"sk-toggleable__label\" for=\"ef92111c-9c49-477e-8f7a-43139f4e632b\">FeatureSelector</label><div class=\"sk-toggleable__content\"><pre>FeatureSelector(column='Geography')</pre></div></div></div><div class=\"sk-item\"><div class=\"sk-estimator sk-toggleable\"><input class=\"sk-toggleable__control sk-hidden--visually\" id=\"fb3ec2f9-e18c-41c4-b803-2cc0495d81ce\" type=\"checkbox\" ><label class=\"sk-toggleable__label\" for=\"fb3ec2f9-e18c-41c4-b803-2cc0495d81ce\">OHEEncoder</label><div class=\"sk-toggleable__content\"><pre>OHEEncoder(key='Geography')</pre></div></div></div></div></div></div></div></div><div class=\"sk-parallel-item\"><div class=\"sk-item\"><div class=\"sk-label-container\"><div class=\"sk-label sk-toggleable\"><label>Gender</label></div></div><div class=\"sk-serial\"><div class=\"sk-item\"><div class=\"sk-serial\"><div class=\"sk-item\"><div class=\"sk-estimator sk-toggleable\"><input class=\"sk-toggleable__control sk-hidden--visually\" id=\"d5e5cab4-b762-484f-9550-8881bb200e58\" type=\"checkbox\" ><label class=\"sk-toggleable__label\" for=\"d5e5cab4-b762-484f-9550-8881bb200e58\">FeatureSelector</label><div class=\"sk-toggleable__content\"><pre>FeatureSelector(column='Gender')</pre></div></div></div><div class=\"sk-item\"><div class=\"sk-estimator sk-toggleable\"><input class=\"sk-toggleable__control sk-hidden--visually\" id=\"1336f72f-9f63-4e63-8b25-b1cd17c4baf9\" type=\"checkbox\" ><label class=\"sk-toggleable__label\" for=\"1336f72f-9f63-4e63-8b25-b1cd17c4baf9\">OHEEncoder</label><div class=\"sk-toggleable__content\"><pre>OHEEncoder(key='Gender')</pre></div></div></div></div></div></div></div></div><div class=\"sk-parallel-item\"><div class=\"sk-item\"><div class=\"sk-label-container\"><div class=\"sk-label sk-toggleable\"><label>Tenure</label></div></div><div class=\"sk-serial\"><div class=\"sk-item\"><div class=\"sk-serial\"><div class=\"sk-item\"><div class=\"sk-estimator sk-toggleable\"><input class=\"sk-toggleable__control sk-hidden--visually\" id=\"4ea4e9ab-2ff7-4b39-b571-89a6170f4cca\" type=\"checkbox\" ><label class=\"sk-toggleable__label\" for=\"4ea4e9ab-2ff7-4b39-b571-89a6170f4cca\">FeatureSelector</label><div class=\"sk-toggleable__content\"><pre>FeatureSelector(column='Tenure')</pre></div></div></div><div class=\"sk-item\"><div class=\"sk-estimator sk-toggleable\"><input class=\"sk-toggleable__control sk-hidden--visually\" id=\"89adab58-57b0-4e21-834d-0985b59886f5\" type=\"checkbox\" ><label class=\"sk-toggleable__label\" for=\"89adab58-57b0-4e21-834d-0985b59886f5\">OHEEncoder</label><div class=\"sk-toggleable__content\"><pre>OHEEncoder(key='Tenure')</pre></div></div></div></div></div></div></div></div><div class=\"sk-parallel-item\"><div class=\"sk-item\"><div class=\"sk-label-container\"><div class=\"sk-label sk-toggleable\"><label>HasCrCard</label></div></div><div class=\"sk-serial\"><div class=\"sk-item\"><div class=\"sk-serial\"><div class=\"sk-item\"><div class=\"sk-estimator sk-toggleable\"><input class=\"sk-toggleable__control sk-hidden--visually\" id=\"3fdf061c-016a-4502-941f-b55c14e2a09e\" type=\"checkbox\" ><label class=\"sk-toggleable__label\" for=\"3fdf061c-016a-4502-941f-b55c14e2a09e\">FeatureSelector</label><div class=\"sk-toggleable__content\"><pre>FeatureSelector(column='HasCrCard')</pre></div></div></div><div class=\"sk-item\"><div class=\"sk-estimator sk-toggleable\"><input class=\"sk-toggleable__control sk-hidden--visually\" id=\"0596a7ba-4470-4759-b6be-28318d0632c9\" type=\"checkbox\" ><label class=\"sk-toggleable__label\" for=\"0596a7ba-4470-4759-b6be-28318d0632c9\">OHEEncoder</label><div class=\"sk-toggleable__content\"><pre>OHEEncoder(key='HasCrCard')</pre></div></div></div></div></div></div></div></div><div class=\"sk-parallel-item\"><div class=\"sk-item\"><div class=\"sk-label-container\"><div class=\"sk-label sk-toggleable\"><label>IsActiveMember</label></div></div><div class=\"sk-serial\"><div class=\"sk-item\"><div class=\"sk-serial\"><div class=\"sk-item\"><div class=\"sk-estimator sk-toggleable\"><input class=\"sk-toggleable__control sk-hidden--visually\" id=\"981f49b4-c5f5-419b-8934-baa78d4eca6e\" type=\"checkbox\" ><label class=\"sk-toggleable__label\" for=\"981f49b4-c5f5-419b-8934-baa78d4eca6e\">FeatureSelector</label><div class=\"sk-toggleable__content\"><pre>FeatureSelector(column='IsActiveMember')</pre></div></div></div><div class=\"sk-item\"><div class=\"sk-estimator sk-toggleable\"><input class=\"sk-toggleable__control sk-hidden--visually\" id=\"2b73e24e-e1cd-4367-ab2f-1a6ade2d9048\" type=\"checkbox\" ><label class=\"sk-toggleable__label\" for=\"2b73e24e-e1cd-4367-ab2f-1a6ade2d9048\">OHEEncoder</label><div class=\"sk-toggleable__content\"><pre>OHEEncoder(key='IsActiveMember')</pre></div></div></div></div></div></div></div></div><div class=\"sk-parallel-item\"><div class=\"sk-item\"><div class=\"sk-label-container\"><div class=\"sk-label sk-toggleable\"><label>CreditScore</label></div></div><div class=\"sk-serial\"><div class=\"sk-item\"><div class=\"sk-serial\"><div class=\"sk-item\"><div class=\"sk-estimator sk-toggleable\"><input class=\"sk-toggleable__control sk-hidden--visually\" id=\"d39a36d5-0a61-4311-9648-ec4d4880cf39\" type=\"checkbox\" ><label class=\"sk-toggleable__label\" for=\"d39a36d5-0a61-4311-9648-ec4d4880cf39\">NumberSelector</label><div class=\"sk-toggleable__content\"><pre>NumberSelector(key='CreditScore')</pre></div></div></div><div class=\"sk-item\"><div class=\"sk-estimator sk-toggleable\"><input class=\"sk-toggleable__control sk-hidden--visually\" id=\"aa18b071-2f44-4468-97a2-3b9a80b2bf90\" type=\"checkbox\" ><label class=\"sk-toggleable__label\" for=\"aa18b071-2f44-4468-97a2-3b9a80b2bf90\">StandardScaler</label><div class=\"sk-toggleable__content\"><pre>StandardScaler()</pre></div></div></div></div></div></div></div></div><div class=\"sk-parallel-item\"><div class=\"sk-item\"><div class=\"sk-label-container\"><div class=\"sk-label sk-toggleable\"><label>Age</label></div></div><div class=\"sk-serial\"><div class=\"sk-item\"><div class=\"sk-serial\"><div class=\"sk-item\"><div class=\"sk-estimator sk-toggleable\"><input class=\"sk-toggleable__control sk-hidden--visually\" id=\"1c424ba2-a0d2-4c1e-a3c7-8fd789889703\" type=\"checkbox\" ><label class=\"sk-toggleable__label\" for=\"1c424ba2-a0d2-4c1e-a3c7-8fd789889703\">NumberSelector</label><div class=\"sk-toggleable__content\"><pre>NumberSelector(key='Age')</pre></div></div></div><div class=\"sk-item\"><div class=\"sk-estimator sk-toggleable\"><input class=\"sk-toggleable__control sk-hidden--visually\" id=\"59ae0411-d085-4b22-a228-e3ba1a7dc7e3\" type=\"checkbox\" ><label class=\"sk-toggleable__label\" for=\"59ae0411-d085-4b22-a228-e3ba1a7dc7e3\">StandardScaler</label><div class=\"sk-toggleable__content\"><pre>StandardScaler()</pre></div></div></div></div></div></div></div></div><div class=\"sk-parallel-item\"><div class=\"sk-item\"><div class=\"sk-label-container\"><div class=\"sk-label sk-toggleable\"><label>Balance</label></div></div><div class=\"sk-serial\"><div class=\"sk-item\"><div class=\"sk-serial\"><div class=\"sk-item\"><div class=\"sk-estimator sk-toggleable\"><input class=\"sk-toggleable__control sk-hidden--visually\" id=\"f009f383-4362-4452-9341-814f3edfa503\" type=\"checkbox\" ><label class=\"sk-toggleable__label\" for=\"f009f383-4362-4452-9341-814f3edfa503\">NumberSelector</label><div class=\"sk-toggleable__content\"><pre>NumberSelector(key='Balance')</pre></div></div></div><div class=\"sk-item\"><div class=\"sk-estimator sk-toggleable\"><input class=\"sk-toggleable__control sk-hidden--visually\" id=\"da5baf8a-bdef-4a6a-87b6-fffacb4ab8b9\" type=\"checkbox\" ><label class=\"sk-toggleable__label\" for=\"da5baf8a-bdef-4a6a-87b6-fffacb4ab8b9\">StandardScaler</label><div class=\"sk-toggleable__content\"><pre>StandardScaler()</pre></div></div></div></div></div></div></div></div><div class=\"sk-parallel-item\"><div class=\"sk-item\"><div class=\"sk-label-container\"><div class=\"sk-label sk-toggleable\"><label>NumOfProducts</label></div></div><div class=\"sk-serial\"><div class=\"sk-item\"><div class=\"sk-serial\"><div class=\"sk-item\"><div class=\"sk-estimator sk-toggleable\"><input class=\"sk-toggleable__control sk-hidden--visually\" id=\"d4272943-94d8-4806-8610-c2d190347e4d\" type=\"checkbox\" ><label class=\"sk-toggleable__label\" for=\"d4272943-94d8-4806-8610-c2d190347e4d\">NumberSelector</label><div class=\"sk-toggleable__content\"><pre>NumberSelector(key='NumOfProducts')</pre></div></div></div><div class=\"sk-item\"><div class=\"sk-estimator sk-toggleable\"><input class=\"sk-toggleable__control sk-hidden--visually\" id=\"0d507025-15db-462b-bd8b-4c5381cbe51a\" type=\"checkbox\" ><label class=\"sk-toggleable__label\" for=\"0d507025-15db-462b-bd8b-4c5381cbe51a\">StandardScaler</label><div class=\"sk-toggleable__content\"><pre>StandardScaler()</pre></div></div></div></div></div></div></div></div><div class=\"sk-parallel-item\"><div class=\"sk-item\"><div class=\"sk-label-container\"><div class=\"sk-label sk-toggleable\"><label>EstimatedSalary</label></div></div><div class=\"sk-serial\"><div class=\"sk-item\"><div class=\"sk-serial\"><div class=\"sk-item\"><div class=\"sk-estimator sk-toggleable\"><input class=\"sk-toggleable__control sk-hidden--visually\" id=\"ebc435f2-4673-40d1-9ff8-05317fe7f25e\" type=\"checkbox\" ><label class=\"sk-toggleable__label\" for=\"ebc435f2-4673-40d1-9ff8-05317fe7f25e\">NumberSelector</label><div class=\"sk-toggleable__content\"><pre>NumberSelector(key='EstimatedSalary')</pre></div></div></div><div class=\"sk-item\"><div class=\"sk-estimator sk-toggleable\"><input class=\"sk-toggleable__control sk-hidden--visually\" id=\"96ed9861-0775-434a-938f-c4935a6b7cf4\" type=\"checkbox\" ><label class=\"sk-toggleable__label\" for=\"96ed9861-0775-434a-938f-c4935a6b7cf4\">StandardScaler</label><div class=\"sk-toggleable__content\"><pre>StandardScaler()</pre></div></div></div></div></div></div></div></div></div></div></div></div><div class=\"sk-item\"><div class=\"sk-estimator sk-toggleable\"><input class=\"sk-toggleable__control sk-hidden--visually\" id=\"5f2d23e4-5efc-45fd-b902-169b61bd73cd\" type=\"checkbox\" ><label class=\"sk-toggleable__label\" for=\"5f2d23e4-5efc-45fd-b902-169b61bd73cd\">AdaBoostClassifier</label><div class=\"sk-toggleable__content\"><pre>AdaBoostClassifier(n_estimators=100)</pre></div></div></div></div></div></div></div>"
      ],
      "text/plain": [
       "Pipeline(steps=[('features',\n",
       "                 Pipeline(steps=[('feats',\n",
       "                                  FeatureUnion(transformer_list=[('Geography',\n",
       "                                                                  Pipeline(steps=[('selector',\n",
       "                                                                                   FeatureSelector(column='Geography')),\n",
       "                                                                                  ('ohe',\n",
       "                                                                                   OHEEncoder(key='Geography'))])),\n",
       "                                                                 ('Gender',\n",
       "                                                                  Pipeline(steps=[('selector',\n",
       "                                                                                   FeatureSelector(column='Gender')),\n",
       "                                                                                  ('ohe',\n",
       "                                                                                   OHEEncoder(key='Gender'))])),\n",
       "                                                                 ('Tenure',\n",
       "                                                                  Pipeline(steps=[('selector',\n",
       "                                                                                   Fea...\n",
       "                                                                                   NumberSelector(key='Balance')),\n",
       "                                                                                  ('standard',\n",
       "                                                                                   StandardScaler())])),\n",
       "                                                                 ('NumOfProducts',\n",
       "                                                                  Pipeline(steps=[('selector',\n",
       "                                                                                   NumberSelector(key='NumOfProducts')),\n",
       "                                                                                  ('standard',\n",
       "                                                                                   StandardScaler())])),\n",
       "                                                                 ('EstimatedSalary',\n",
       "                                                                  Pipeline(steps=[('selector',\n",
       "                                                                                   NumberSelector(key='EstimatedSalary')),\n",
       "                                                                                  ('standard',\n",
       "                                                                                   StandardScaler())]))]))])),\n",
       "                ('classifier', AdaBoostClassifier(n_estimators=100))])"
      ]
     },
     "execution_count": 30,
     "metadata": {},
     "output_type": "execute_result"
    }
   ],
   "source": [
    "pipeline.fit(X_train, y_train)"
   ]
  },
  {
   "cell_type": "code",
   "execution_count": 31,
   "metadata": {},
   "outputs": [
    {
     "data": {
      "text/plain": [
       "array([0.49746813, 0.49831574, 0.49496487, 0.49474028, 0.49263549,\n",
       "       0.49896141, 0.48945302, 0.48996406, 0.49979683, 0.49700692])"
      ]
     },
     "execution_count": 31,
     "metadata": {},
     "output_type": "execute_result"
    }
   ],
   "source": [
    "preds = pipeline.predict_proba(X_test)[:, 1]\n",
    "preds[:10]"
   ]
  },
  {
   "cell_type": "code",
   "execution_count": 32,
   "metadata": {},
   "outputs": [
    {
     "name": "stdout",
     "output_type": "stream",
     "text": [
      "Best Threshold=0.498955, F-Score=0.619, Precision=0.630, Recall=0.609\n"
     ]
    }
   ],
   "source": [
    "thresholds=print_sel_thresholds(y_test, preds)"
   ]
  },
  {
   "cell_type": "code",
   "execution_count": 33,
   "metadata": {},
   "outputs": [
    {
     "name": "stdout",
     "output_type": "stream",
     "text": [
      "Confusion matrix, without normalization\n",
      "[[1809  182]\n",
      " [ 200  309]]\n"
     ]
    },
    {
     "data": {
      "image/png": "[encoded data removed]",
      "text/plain": [
       "<Figure size 720x576 with 2 Axes>"
      ]
     },
     "metadata": {
      "needs_background": "light"
     },
     "output_type": "display_data"
    }
   ],
   "source": [
    "confusion_matrix_create(y_test, preds, thresholds)"
   ]
  },
  {
   "cell_type": "code",
   "execution_count": 34,
   "metadata": {},
   "outputs": [],
   "source": [
    "models_results['approach'].append('AdaBoostClassifier')\n",
    "models_results['F-Score'].append(0.619)\n",
    "models_results['Precision'].append(0.630)\n",
    "models_results['Recall'].append(0.609)"
   ]
  },
  {
   "cell_type": "code",
   "execution_count": 35,
   "metadata": {},
   "outputs": [
    {
     "data": {
      "text/html": [
       "<div>\n",
       "<style scoped>\n",
       "    .dataframe tbody tr th:only-of-type {\n",
       "        vertical-align: middle;\n",
       "    }\n",
       "\n",
       "    .dataframe tbody tr th {\n",
       "        vertical-align: top;\n",
       "    }\n",
       "\n",
       "    .dataframe thead th {\n",
       "        text-align: right;\n",
       "    }\n",
       "</style>\n",
       "<table border=\"1\" class=\"dataframe\">\n",
       "  <thead>\n",
       "    <tr style=\"text-align: right;\">\n",
       "      <th></th>\n",
       "      <th>approach</th>\n",
       "      <th>F-Score</th>\n",
       "      <th>Precision</th>\n",
       "      <th>Recall</th>\n",
       "    </tr>\n",
       "  </thead>\n",
       "  <tbody>\n",
       "    <tr>\n",
       "      <th>0</th>\n",
       "      <td>RandomForestClassifier</td>\n",
       "      <td>0.641</td>\n",
       "      <td>0.653</td>\n",
       "      <td>0.629</td>\n",
       "    </tr>\n",
       "    <tr>\n",
       "      <th>1</th>\n",
       "      <td>LogisticRegression</td>\n",
       "      <td>0.510</td>\n",
       "      <td>0.462</td>\n",
       "      <td>0.568</td>\n",
       "    </tr>\n",
       "    <tr>\n",
       "      <th>2</th>\n",
       "      <td>AdaBoostClassifier</td>\n",
       "      <td>0.619</td>\n",
       "      <td>0.630</td>\n",
       "      <td>0.609</td>\n",
       "    </tr>\n",
       "  </tbody>\n",
       "</table>\n",
       "</div>"
      ],
      "text/plain": [
       "                 approach  F-Score  Precision  Recall\n",
       "0  RandomForestClassifier    0.641      0.653   0.629\n",
       "1      LogisticRegression    0.510      0.462   0.568\n",
       "2      AdaBoostClassifier    0.619      0.630   0.609"
      ]
     },
     "execution_count": 35,
     "metadata": {},
     "output_type": "execute_result"
    }
   ],
   "source": [
    "pd.DataFrame( models_results)"
   ]
  },
  {
   "cell_type": "markdown",
   "metadata": {},
   "source": [
    "randomforestclassifier - лучше показала precision и recall, выбираем ее"
   ]
  },
  {
   "cell_type": "code",
   "execution_count": 36,
   "metadata": {},
   "outputs": [
    {
     "data": {
      "text/plain": [
       "(1809, 200, 309, 182)"
      ]
     },
     "execution_count": 36,
     "metadata": {},
     "output_type": "execute_result"
    }
   ],
   "source": [
    "cnf_matrix = confusion_matrix(y_test, preds>thresholds)\n",
    "\n",
    "TN = cnf_matrix[0][0]\n",
    "FN = cnf_matrix[1][0]\n",
    "TP = cnf_matrix[1][1]\n",
    "FP = cnf_matrix[0][1]\n",
    "\n",
    "TN, FN, TP, FP"
   ]
  },
  {
   "cell_type": "code",
   "execution_count": 37,
   "metadata": {},
   "outputs": [
    {
     "data": {
      "text/plain": [
       "491"
      ]
     },
     "execution_count": 37,
     "metadata": {},
     "output_type": "execute_result"
    }
   ],
   "source": [
    "TP+FP"
   ]
  },
  {
   "cell_type": "markdown",
   "metadata": {},
   "source": [
    "TP+FP удержание клиентов"
   ]
  },
  {
   "cell_type": "code",
   "execution_count": 38,
   "metadata": {},
   "outputs": [
    {
     "data": {
      "text/plain": [
       "618"
      ]
     },
     "execution_count": 38,
     "metadata": {},
     "output_type": "execute_result"
    }
   ],
   "source": [
    "2*TP"
   ]
  },
  {
   "cell_type": "markdown",
   "metadata": {},
   "source": [
    "2*TP возврат средств "
   ]
  },
  {
   "cell_type": "code",
   "execution_count": 39,
   "metadata": {},
   "outputs": [
    {
     "data": {
      "text/plain": [
       "127"
      ]
     },
     "execution_count": 39,
     "metadata": {},
     "output_type": "execute_result"
    }
   ],
   "source": [
    "2*TP-1*(TP+FP)"
   ]
  },
  {
   "cell_type": "markdown",
   "metadata": {},
   "source": [
    "127 долларов доход"
   ]
  }
 ],
 "metadata": {
  "kernelspec": {
   "display_name": "Python 3",
   "language": "python",
   "name": "python3"
  },
  "language_info": {
   "codemirror_mode": {
    "name": "ipython",
    "version": 3
   },
   "file_extension": ".py",
   "mimetype": "text/x-python",
   "name": "python",
   "nbconvert_exporter": "python",
   "pygments_lexer": "ipython3",
   "version": "3.8.5"
  }
 },
 "nbformat": 4,
 "nbformat_minor": 4
}
